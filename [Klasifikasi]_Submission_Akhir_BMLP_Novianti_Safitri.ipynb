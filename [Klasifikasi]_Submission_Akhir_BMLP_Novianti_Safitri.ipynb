{
  "nbformat": 4,
  "nbformat_minor": 0,
  "metadata": {
    "colab": {
      "provenance": [],
      "include_colab_link": true
    },
    "kernelspec": {
      "name": "python3",
      "display_name": "Python 3"
    },
    "language_info": {
      "name": "python"
    }
  },
  "cells": [
    {
      "cell_type": "markdown",
      "metadata": {
        "id": "view-in-github",
        "colab_type": "text"
      },
      "source": [
        "<a href=\"https://colab.research.google.com/github/noviantisafitri/Machine-Learning-for-Beginners/blob/main/%5BKlasifikasi%5D_Submission_Akhir_BMLP_Novianti_Safitri.ipynb\" target=\"_parent\"><img src=\"https://colab.research.google.com/assets/colab-badge.svg\" alt=\"Open In Colab\"/></a>"
      ]
    },
    {
      "cell_type": "markdown",
      "source": [
        "# **1. Import Library**"
      ],
      "metadata": {
        "id": "fKADPWcFKlj3"
      }
    },
    {
      "cell_type": "markdown",
      "source": [
        "Pada tahap ini, Anda perlu mengimpor beberapa pustaka (library) Python yang dibutuhkan untuk analisis data dan pembangunan model machine learning."
      ],
      "metadata": {
        "id": "LgA3ERnVn84N"
      }
    },
    {
      "cell_type": "code",
      "source": [
        "import pandas as pd\n",
        "import numpy as np\n",
        "import matplotlib.pyplot as plt\n",
        "import seaborn as sns\n",
        "from sklearn.model_selection import train_test_split\n",
        "from sklearn.preprocessing import LabelEncoder, StandardScaler\n",
        "from sklearn.linear_model import LogisticRegression\n",
        "from sklearn.neighbors import KNeighborsClassifier\n",
        "from sklearn.metrics import accuracy_score, precision_score, recall_score, f1_score, confusion_matrix, classification_report"
      ],
      "metadata": {
        "id": "BlmvjLY9M4Yj"
      },
      "execution_count": 72,
      "outputs": []
    },
    {
      "cell_type": "markdown",
      "source": [
        "# **2. Memuat Dataset dari Hasil Clustering**"
      ],
      "metadata": {
        "id": "f3YIEnAFKrKL"
      }
    },
    {
      "cell_type": "markdown",
      "source": [
        "Memuat dataset hasil clustering dari file CSV ke dalam variabel DataFrame."
      ],
      "metadata": {
        "id": "Ey3ItwTen_7E"
      }
    },
    {
      "cell_type": "code",
      "source": [
        "df = pd.read_csv('https://raw.githubusercontent.com/noviantisafitri/Machine-Learning-for-Beginners/refs/heads/main/Clustering.csv')"
      ],
      "metadata": {
        "id": "GHCGNTyrM5fS"
      },
      "execution_count": 73,
      "outputs": []
    },
    {
      "cell_type": "markdown",
      "source": [
        "# **3. Data Splitting**"
      ],
      "metadata": {
        "id": "KkPem5eWL2UP"
      }
    },
    {
      "cell_type": "markdown",
      "source": [
        "Tahap Data Splitting bertujuan untuk memisahkan dataset menjadi dua bagian: data latih (training set) dan data uji (test set)."
      ],
      "metadata": {
        "id": "YYj1rl_JNI9Y"
      }
    },
    {
      "cell_type": "code",
      "source": [
        "from sklearn.model_selection import train_test_split\n",
        "from sklearn.preprocessing import StandardScaler, LabelEncoder\n",
        "\n",
        "# Jika 'length_binned' kolom kategorikal, kita encode kolom tersebut\n",
        "label_encoder = LabelEncoder()\n",
        "df['length_binned'] = label_encoder.fit_transform(df['length_binned'])\n",
        "\n",
        "# Pisahkan fitur (X) dan target (y)\n",
        "X = df.drop(columns=['Cluster'])  # Pastikan 'Cluster' adalah label yang ingin diprediksi\n",
        "y = df['Cluster']\n",
        "\n",
        "# Bagi data menjadi data latih dan uji (70:30)\n",
        "X_train, X_test, y_train, y_test = train_test_split(X, y, test_size=0.7, random_state=42)\n",
        "\n",
        "# Standarisasi data numerik\n",
        "scaler = StandardScaler()\n",
        "X_train = scaler.fit_transform(X_train)  # Hanya data numerik yang akan distandarisasi\n",
        "X_test = scaler.transform(X_test)\n",
        "\n",
        "# Sekarang data siap untuk klasifikasi"
      ],
      "metadata": {
        "id": "OubAW-7ONKVj"
      },
      "execution_count": 74,
      "outputs": []
    },
    {
      "cell_type": "markdown",
      "source": [
        "Tahapan diatas adalah proses dalam melakukan persiapan data untuk klasifikasi dengan langkah-langkah berikut: pertama, kolom kategorikal length_binned dikonversi ke bentuk numerik menggunakan Label Encoding. Selanjutnya, data dipisahkan menjadi fitur (X) dan target (y), di mana kolom Cluster menjadi label yang akan diprediksi. Kemudian, data dibagi menjadi data latih (30%) dan data uji (70%) menggunakan train_test_split. Terakhir, fitur numerik distandarisasi menggunakan StandardScaler agar memiliki distribusi dengan rata-rata 0 dan varians 1, memastikan performa optimal pada model klasifikasi."
      ],
      "metadata": {
        "id": "dQpCmqDdkWT2"
      }
    },
    {
      "cell_type": "markdown",
      "source": [
        "# **4. Membangun Model Klasifikasi**\n"
      ],
      "metadata": {
        "id": "IVPbB03CMhTT"
      }
    },
    {
      "cell_type": "markdown",
      "source": [
        "## **a. Membangun Model Klasifikasi**"
      ],
      "metadata": {
        "id": "Ned1pL9zMmBK"
      }
    },
    {
      "cell_type": "markdown",
      "source": [
        "Setelah memilih algoritma klasifikasi yang sesuai, langkah selanjutnya adalah melatih model menggunakan data latih.\n",
        "\n",
        "Berikut adalah rekomendasi tahapannya.\n",
        "1. Pilih algoritma klasifikasi yang sesuai, seperti Logistic Regression, Decision Tree, Random Forest, atau K-Nearest Neighbors (KNN).\n",
        "2. Latih model menggunakan data latih."
      ],
      "metadata": {
        "id": "WAWzPOE4Nkti"
      }
    },
    {
      "cell_type": "code",
      "source": [
        "# Inisialisasi model\n",
        "models = {\n",
        "    \"Logistic Regression\": LogisticRegression(),\n",
        "    \"K-Nearest Neighbors\": KNeighborsClassifier()\n",
        "}\n"
      ],
      "metadata": {
        "id": "AJjECcKUKSmL"
      },
      "execution_count": 75,
      "outputs": []
    },
    {
      "cell_type": "markdown",
      "source": [
        "Tahap ini menginisialisasi beberapa algoritma klasifikasi yang akan digunakan untuk membangun model. Model yang dipilih meliputi Logistic Regression dan K-Nearest Neighbors. Setiap model memiliki pendekatan yang berbeda dalam mengklasifikasikan data, sehingga nantinya dapat dibandingkan untuk menentukan performa terbaik berdasarkan metrik evaluasi."
      ],
      "metadata": {
        "id": "qUyHUGpBlALm"
      }
    },
    {
      "cell_type": "code",
      "source": [
        "# Latih dan evaluasi setiap model\n",
        "for name, model in models.items():\n",
        "    model.fit(X_train, y_train)  # Latih model\n",
        "    y_pred = model.predict(X_test)  # Prediksi data uji\n",
        "    accuracy = accuracy_score(y_test, y_pred)  # Hitung akurasi\n",
        "    print(f\"{name} Accuracy: {accuracy:.2f}\")\n",
        "    print(classification_report(y_test, y_pred))"
      ],
      "metadata": {
        "id": "PBo-YdxMh66E",
        "colab": {
          "base_uri": "https://localhost:8080/"
        },
        "outputId": "62fef230-56b2-457d-93f4-33d04fc0442d"
      },
      "execution_count": 76,
      "outputs": [
        {
          "output_type": "stream",
          "name": "stdout",
          "text": [
            "Logistic Regression Accuracy: 1.00\n",
            "              precision    recall  f1-score   support\n",
            "\n",
            "           1       1.00      1.00      1.00       520\n",
            "           2       1.00      1.00      1.00       287\n",
            "           3       0.99      1.00      0.99       294\n",
            "           4       1.00      0.98      0.99       295\n",
            "\n",
            "    accuracy                           1.00      1396\n",
            "   macro avg       1.00      1.00      1.00      1396\n",
            "weighted avg       1.00      1.00      1.00      1396\n",
            "\n",
            "K-Nearest Neighbors Accuracy: 0.99\n",
            "              precision    recall  f1-score   support\n",
            "\n",
            "           1       1.00      1.00      1.00       520\n",
            "           2       1.00      1.00      1.00       287\n",
            "           3       0.99      1.00      0.99       294\n",
            "           4       0.99      0.98      0.99       295\n",
            "\n",
            "    accuracy                           0.99      1396\n",
            "   macro avg       0.99      0.99      0.99      1396\n",
            "weighted avg       0.99      0.99      0.99      1396\n",
            "\n"
          ]
        }
      ]
    },
    {
      "cell_type": "markdown",
      "source": [
        "Model klasifikasi telah diuji menggunakan beberapa algoritma, dan hasil evaluasi menunjukkan akurasi yang sangat tinggi untuk semua model. **Logistic Regression** mencapai akurasi **100%**, dengan precision, recall, dan f1-score yang sempurna untuk setiap kelas, menunjukkan bahwa model ini mampu mengklasifikasikan data dengan sangat baik tanpa kesalahan.  \n",
        "\n",
        "**K-Nearest Neighbors (KNN)** juga menunjukkan performa yang hampir sempurna dengan akurasi **99%**. Perbedaan kecil dalam recall dan f1-score di beberapa kelas menunjukkan sedikit kesalahan klasifikasi, tetapi secara keseluruhan, model tetap sangat baik dalam mengidentifikasi pola dalam data.  \n",
        "\n",
        "Akurasi yang sangat tinggi ini bisa mengindikasikan bahwa model bekerja sangat baik atau ada kemungkinan overfitting, terutama jika data pelatihan dan pengujian memiliki pola yang sangat mirip."
      ],
      "metadata": {
        "id": "seYoHNY3XU1y"
      }
    },
    {
      "cell_type": "markdown",
      "source": [
        "## **b. Evaluasi Model Klasifikasi**"
      ],
      "metadata": {
        "id": "ergzChZFEL-O"
      }
    },
    {
      "cell_type": "markdown",
      "source": [
        "Berikut adalah **rekomendasi** tahapannya.\n",
        "1. Lakukan prediksi menggunakan data uji.\n",
        "2. Hitung metrik evaluasi seperti Accuracy dan F1-Score (Opsional: Precision dan Recall).\n",
        "3. Buat confusion matrix untuk melihat detail prediksi benar dan salah."
      ],
      "metadata": {
        "id": "zOm68u-7NpLT"
      }
    },
    {
      "cell_type": "code",
      "source": [
        "# Evaluasi setiap model\n",
        "for name, model in models.items():\n",
        "    print(f\"\\nEvaluasi Model: {name}\")\n",
        "\n",
        "    # Prediksi dengan data uji\n",
        "    y_pred = model.predict(X_test)\n",
        "\n",
        "    # Hitung metrik evaluasi\n",
        "    accuracy = accuracy_score(y_test, y_pred)\n",
        "    precision = precision_score(y_test, y_pred, average='weighted')\n",
        "    recall = recall_score(y_test, y_pred, average='weighted')\n",
        "    f1 = f1_score(y_test, y_pred, average='weighted')\n",
        "\n",
        "    # Cetak hasil evaluasi\n",
        "    print(f\"Accuracy: {accuracy:.2f}\")\n",
        "    print(f\"Precision: {precision:.2f}\")\n",
        "    print(f\"Recall: {recall:.2f}\")\n",
        "    print(f\"F1-Score: {f1:.2f}\")"
      ],
      "metadata": {
        "id": "tMq4QAssNLip",
        "colab": {
          "base_uri": "https://localhost:8080/"
        },
        "outputId": "b2e2b211-9ad6-4a9b-8630-83bf79f3a14f"
      },
      "execution_count": 77,
      "outputs": [
        {
          "output_type": "stream",
          "name": "stdout",
          "text": [
            "\n",
            "Evaluasi Model: Logistic Regression\n",
            "Accuracy: 1.00\n",
            "Precision: 1.00\n",
            "Recall: 1.00\n",
            "F1-Score: 1.00\n",
            "\n",
            "Evaluasi Model: K-Nearest Neighbors\n",
            "Accuracy: 0.99\n",
            "Precision: 0.99\n",
            "Recall: 0.99\n",
            "F1-Score: 0.99\n"
          ]
        }
      ]
    },
    {
      "cell_type": "markdown",
      "source": [
        "Evaluasi model menunjukkan bahwa **Logistic Regression** memiliki performa sempurna dengan **akurasi, precision, recall, dan F1-score sebesar 100%**, menandakan model ini mampu mengklasifikasikan data tanpa kesalahan.  \n",
        "\n",
        "**K-Nearest Neighbors (KNN)** juga menunjukkan hasil yang sangat tinggi dengan **akurasi 99%**, serta precision, recall, dan F1-score yang hampir sempurna. Perbedaan kecil dibanding Logistic Regression menunjukkan bahwa KNN masih memiliki sedikit kesalahan dalam klasifikasi, tetapi tetap sangat andal.  "
      ],
      "metadata": {
        "id": "A2Ol_oXSldsK"
      }
    },
    {
      "cell_type": "code",
      "source": [
        "# Menampilkan confusion matrix untuk setiap model\n",
        "for name, model in models.items():\n",
        "    y_pred = model.predict(X_test)\n",
        "    cm = confusion_matrix(y_test, y_pred)\n",
        "\n",
        "    # Visualisasi confusion matrix\n",
        "    plt.figure(figsize=(5,4))\n",
        "    sns.heatmap(cm, annot=True, fmt='d', cmap='Blues')\n",
        "    plt.xlabel('Predicted')\n",
        "    plt.ylabel('Actual')\n",
        "    plt.title(f'Confusion Matrix - {name}')\n",
        "    plt.show()"
      ],
      "metadata": {
        "id": "cAOOW_g6i4df",
        "colab": {
          "base_uri": "https://localhost:8080/",
          "height": 803
        },
        "outputId": "02130067-8944-4885-f539-23788f2cc21d"
      },
      "execution_count": 78,
      "outputs": [
        {
          "output_type": "display_data",
          "data": {
            "text/plain": [
              "<Figure size 500x400 with 2 Axes>"
            ],
            "image/png": "[encoded data removed]"
          },
          "metadata": {}
        },
        {
          "output_type": "display_data",
          "data": {
            "text/plain": [
              "<Figure size 500x400 with 2 Axes>"
            ],
            "image/png": "[encoded data removed]"
          },
          "metadata": {}
        }
      ]
    },
    {
      "cell_type": "markdown",
      "source": [
        "Confusion matrix menunjukkan bahwa **Logistic Regression** memiliki performa hampir sempurna, dengan hanya sedikit kesalahan pada **Cluster 4**, di mana **2 sampel salah diklasifikasikan sebagai Cluster 1 dan 3 sampel sebagai Cluster 3**.  \n",
        "\n",
        "Sementara itu, **K-Nearest Neighbors (KNN)** juga memiliki hasil yang sangat baik, tetapi terdapat sedikit kesalahan pada **Cluster 1**, di mana **2 sampel salah diklasifikasikan sebagai Cluster 4**.  \n",
        "\n",
        "Secara keseluruhan, kedua model memiliki kemampuan klasifikasi yang sangat tinggi, dengan hanya sedikit kesalahan pada beberapa kelas tertentu. Hal ini menunjukkan bahwa data memiliki pola yang jelas, dan model dapat membedakan setiap cluster dengan baik."
      ],
      "metadata": {
        "id": "XDkRkq7hl-go"
      }
    },
    {
      "cell_type": "markdown",
      "source": [
        "## **c. Analisis Hasil Evaluasi Model Klasifikasi**"
      ],
      "metadata": {
        "id": "ZRsOdm4uEgAW"
      }
    },
    {
      "cell_type": "markdown",
      "source": [
        "Berdasarkan evaluasi model klasifikasi yang telah dilakukan, berikut adalah analisis dari hasil yang diperoleh:  \n",
        "\n",
        "- Dari confusion matrix, terlihat bahwa kesalahan klasifikasi terjadi terutama pada **Cluster 4**, di mana **beberapa sampel salah diklasifikasikan sebagai Cluster 1 atau Cluster 3**. Namun, jumlah kesalahan ini sangat kecil dan tidak signifikan dalam memengaruhi keseluruhan akurasi.  \n",
        "- **Logistic Regression mencapai akurasi sempurna (100%)**, yang bisa menjadi indikasi overfitting, terutama jika model terlalu menyesuaikan dengan data latih dan tidak cukup generik untuk data baru. Namun, karena dataset ini tampaknya memiliki pola yang jelas, overfitting tidak terlalu menjadi masalah besar.  \n",
        "- **KNN dengan akurasi 99%** menunjukkan bahwa model tetap kuat, tetapi mungkin lebih fleksibel dibandingkan Logistic Regression.  \n",
        "\n",
        "#### **Rekomendasi Tindakan Lanjutan**  \n",
        "- **Jika overfitting terjadi**, dapat dilakukan:\n",
        "  - **Regularisasi pada Logistic Regression** untuk mengurangi kompleksitas model.\n",
        "  - **Menguji dengan data baru atau unseen data** untuk memastikan generalisasi model tetap baik.  \n",
        "- **Jika ingin meningkatkan performa lebih lanjut**, langkah-langkah berikut bisa dilakukan:\n",
        "  - **Mencoba model lain**, seperti **Random Forest, Support Vector Machine (SVM), atau Gradient Boosting** untuk melihat apakah ada peningkatan performa.  \n",
        "  - **Melakukan tuning hyperparameter pada KNN** dengan mencari jumlah tetangga (k) yang optimal menggunakan cross-validation.  \n",
        "  - **Menambah data latih**, terutama jika jumlah data masih terbatas, untuk meningkatkan generalisasi model terhadap berbagai pola klasifikasi.  "
      ],
      "metadata": {
        "id": "Hm3BhSi6N4_l"
      }
    }
  ]
}