{
  "nbformat": 4,
  "nbformat_minor": 0,
  "metadata": {
    "colab": {
      "provenance": [],
      "include_colab_link": true
    },
    "kernelspec": {
      "name": "python3",
      "display_name": "Python 3"
    },
    "language_info": {
      "name": "python"
    }
  },
  "cells": [
    {
      "cell_type": "markdown",
      "metadata": {
        "id": "view-in-github",
        "colab_type": "text"
      },
      "source": [
        "<a href=\"https://colab.research.google.com/github/noviantisafitri/Machine-Learning-for-Beginners/blob/main/%5BKlasifikasi%5D_Submission_Akhir_BMLP_Novianti_Safitri.ipynb\" target=\"_parent\"><img src=\"https://colab.research.google.com/assets/colab-badge.svg\" alt=\"Open In Colab\"/></a>"
      ]
    },
    {
      "cell_type": "markdown",
      "source": [
        "# **1. Import Library**"
      ],
      "metadata": {
        "id": "fKADPWcFKlj3"
      }
    },
    {
      "cell_type": "markdown",
      "source": [
        "Pada tahap ini, Anda perlu mengimpor beberapa pustaka (library) Python yang dibutuhkan untuk analisis data dan pembangunan model machine learning."
      ],
      "metadata": {
        "id": "LgA3ERnVn84N"
      }
    },
    {
      "cell_type": "code",
      "source": [
        "import pandas as pd\n",
        "import numpy as np\n",
        "import matplotlib.pyplot as plt\n",
        "import seaborn as sns\n",
        "from sklearn.model_selection import train_test_split\n",
        "from sklearn.preprocessing import LabelEncoder, StandardScaler\n",
        "from sklearn.ensemble import RandomForestClassifier\n",
        "from sklearn.linear_model import LogisticRegression\n",
        "from sklearn.tree import DecisionTreeClassifier\n",
        "from sklearn.neighbors import KNeighborsClassifier\n",
        "from sklearn.svm import SVC\n",
        "from sklearn.metrics import accuracy_score, precision_score, recall_score, f1_score, confusion_matrix, classification_report"
      ],
      "metadata": {
        "id": "BlmvjLY9M4Yj"
      },
      "execution_count": 91,
      "outputs": []
    },
    {
      "cell_type": "markdown",
      "source": [
        "# **2. Memuat Dataset dari Hasil Clustering**"
      ],
      "metadata": {
        "id": "f3YIEnAFKrKL"
      }
    },
    {
      "cell_type": "markdown",
      "source": [
        "Memuat dataset hasil clustering dari file CSV ke dalam variabel DataFrame."
      ],
      "metadata": {
        "id": "Ey3ItwTen_7E"
      }
    },
    {
      "cell_type": "code",
      "source": [
        "df = pd.read_csv('https://raw.githubusercontent.com/noviantisafitri/Machine-Learning-for-Beginners/refs/heads/main/Clustering.csv')\n",
        "df"
      ],
      "metadata": {
        "id": "GHCGNTyrM5fS",
        "colab": {
          "base_uri": "https://localhost:8080/",
          "height": 423
        },
        "outputId": "c35ca0e4-edc9-4efe-f7a0-cd069a582528"
      },
      "execution_count": 92,
      "outputs": [
        {
          "output_type": "execute_result",
          "data": {
            "text/plain": [
              "      CustomerID  Gender  Age  Annual Income ($)  Spending Score (1-100)  \\\n",
              "0              1     1.0   19           0.078958                    0.39   \n",
              "1              2     1.0   21           0.184236                    0.81   \n",
              "2              3     0.0   20           0.452694                    0.06   \n",
              "3              4     0.0   23           0.310569                    0.77   \n",
              "4              5     0.0   31           0.200027                    0.40   \n",
              "...          ...     ...  ...                ...                     ...   \n",
              "2460        2496     1.0   45           0.483366                    0.17   \n",
              "2461        2497     0.0   69           0.297435                    0.90   \n",
              "2462        2498     0.0   32           0.077847                    0.26   \n",
              "2463        2499     1.0   28           0.336493                    0.60   \n",
              "2464        2500     0.0   67           0.169576                    0.58   \n",
              "\n",
              "         Profession  Work Experience  Family Size    Age_Group  Cluster  \n",
              "0        Healthcare                1            4        Young        2  \n",
              "1          Engineer                3            3        Young        2  \n",
              "2          Engineer                1            1        Young        1  \n",
              "3            Lawyer                0            2        Young        3  \n",
              "4     Entertainment                2            6  Middle-aged        1  \n",
              "...             ...              ...          ...          ...      ...  \n",
              "2460  Entertainment                9            3       Senior        2  \n",
              "2461         Doctor               10            4        Elder        3  \n",
              "2462         Lawyer                3            2  Middle-aged        1  \n",
              "2463         Doctor               13            1  Middle-aged        2  \n",
              "2464         Artist               14            3        Elder        3  \n",
              "\n",
              "[2465 rows x 10 columns]"
            ],
            "text/html": [
              "\n",
              "  <div id=\"df-36d13554-e842-44b1-94ad-46f17ff6a784\" class=\"colab-df-container\">\n",
              "    <div>\n",
              "<style scoped>\n",
              "    .dataframe tbody tr th:only-of-type {\n",
              "        vertical-align: middle;\n",
              "    }\n",
              "\n",
              "    .dataframe tbody tr th {\n",
              "        vertical-align: top;\n",
              "    }\n",
              "\n",
              "    .dataframe thead th {\n",
              "        text-align: right;\n",
              "    }\n",
              "</style>\n",
              "<table border=\"1\" class=\"dataframe\">\n",
              "  <thead>\n",
              "    <tr style=\"text-align: right;\">\n",
              "      <th></th>\n",
              "      <th>CustomerID</th>\n",
              "      <th>Gender</th>\n",
              "      <th>Age</th>\n",
              "      <th>Annual Income ($)</th>\n",
              "      <th>Spending Score (1-100)</th>\n",
              "      <th>Profession</th>\n",
              "      <th>Work Experience</th>\n",
              "      <th>Family Size</th>\n",
              "      <th>Age_Group</th>\n",
              "      <th>Cluster</th>\n",
              "    </tr>\n",
              "  </thead>\n",
              "  <tbody>\n",
              "    <tr>\n",
              "      <th>0</th>\n",
              "      <td>1</td>\n",
              "      <td>1.0</td>\n",
              "      <td>19</td>\n",
              "      <td>0.078958</td>\n",
              "      <td>0.39</td>\n",
              "      <td>Healthcare</td>\n",
              "      <td>1</td>\n",
              "      <td>4</td>\n",
              "      <td>Young</td>\n",
              "      <td>2</td>\n",
              "    </tr>\n",
              "    <tr>\n",
              "      <th>1</th>\n",
              "      <td>2</td>\n",
              "      <td>1.0</td>\n",
              "      <td>21</td>\n",
              "      <td>0.184236</td>\n",
              "      <td>0.81</td>\n",
              "      <td>Engineer</td>\n",
              "      <td>3</td>\n",
              "      <td>3</td>\n",
              "      <td>Young</td>\n",
              "      <td>2</td>\n",
              "    </tr>\n",
              "    <tr>\n",
              "      <th>2</th>\n",
              "      <td>3</td>\n",
              "      <td>0.0</td>\n",
              "      <td>20</td>\n",
              "      <td>0.452694</td>\n",
              "      <td>0.06</td>\n",
              "      <td>Engineer</td>\n",
              "      <td>1</td>\n",
              "      <td>1</td>\n",
              "      <td>Young</td>\n",
              "      <td>1</td>\n",
              "    </tr>\n",
              "    <tr>\n",
              "      <th>3</th>\n",
              "      <td>4</td>\n",
              "      <td>0.0</td>\n",
              "      <td>23</td>\n",
              "      <td>0.310569</td>\n",
              "      <td>0.77</td>\n",
              "      <td>Lawyer</td>\n",
              "      <td>0</td>\n",
              "      <td>2</td>\n",
              "      <td>Young</td>\n",
              "      <td>3</td>\n",
              "    </tr>\n",
              "    <tr>\n",
              "      <th>4</th>\n",
              "      <td>5</td>\n",
              "      <td>0.0</td>\n",
              "      <td>31</td>\n",
              "      <td>0.200027</td>\n",
              "      <td>0.40</td>\n",
              "      <td>Entertainment</td>\n",
              "      <td>2</td>\n",
              "      <td>6</td>\n",
              "      <td>Middle-aged</td>\n",
              "      <td>1</td>\n",
              "    </tr>\n",
              "    <tr>\n",
              "      <th>...</th>\n",
              "      <td>...</td>\n",
              "      <td>...</td>\n",
              "      <td>...</td>\n",
              "      <td>...</td>\n",
              "      <td>...</td>\n",
              "      <td>...</td>\n",
              "      <td>...</td>\n",
              "      <td>...</td>\n",
              "      <td>...</td>\n",
              "      <td>...</td>\n",
              "    </tr>\n",
              "    <tr>\n",
              "      <th>2460</th>\n",
              "      <td>2496</td>\n",
              "      <td>1.0</td>\n",
              "      <td>45</td>\n",
              "      <td>0.483366</td>\n",
              "      <td>0.17</td>\n",
              "      <td>Entertainment</td>\n",
              "      <td>9</td>\n",
              "      <td>3</td>\n",
              "      <td>Senior</td>\n",
              "      <td>2</td>\n",
              "    </tr>\n",
              "    <tr>\n",
              "      <th>2461</th>\n",
              "      <td>2497</td>\n",
              "      <td>0.0</td>\n",
              "      <td>69</td>\n",
              "      <td>0.297435</td>\n",
              "      <td>0.90</td>\n",
              "      <td>Doctor</td>\n",
              "      <td>10</td>\n",
              "      <td>4</td>\n",
              "      <td>Elder</td>\n",
              "      <td>3</td>\n",
              "    </tr>\n",
              "    <tr>\n",
              "      <th>2462</th>\n",
              "      <td>2498</td>\n",
              "      <td>0.0</td>\n",
              "      <td>32</td>\n",
              "      <td>0.077847</td>\n",
              "      <td>0.26</td>\n",
              "      <td>Lawyer</td>\n",
              "      <td>3</td>\n",
              "      <td>2</td>\n",
              "      <td>Middle-aged</td>\n",
              "      <td>1</td>\n",
              "    </tr>\n",
              "    <tr>\n",
              "      <th>2463</th>\n",
              "      <td>2499</td>\n",
              "      <td>1.0</td>\n",
              "      <td>28</td>\n",
              "      <td>0.336493</td>\n",
              "      <td>0.60</td>\n",
              "      <td>Doctor</td>\n",
              "      <td>13</td>\n",
              "      <td>1</td>\n",
              "      <td>Middle-aged</td>\n",
              "      <td>2</td>\n",
              "    </tr>\n",
              "    <tr>\n",
              "      <th>2464</th>\n",
              "      <td>2500</td>\n",
              "      <td>0.0</td>\n",
              "      <td>67</td>\n",
              "      <td>0.169576</td>\n",
              "      <td>0.58</td>\n",
              "      <td>Artist</td>\n",
              "      <td>14</td>\n",
              "      <td>3</td>\n",
              "      <td>Elder</td>\n",
              "      <td>3</td>\n",
              "    </tr>\n",
              "  </tbody>\n",
              "</table>\n",
              "<p>2465 rows × 10 columns</p>\n",
              "</div>\n",
              "    <div class=\"colab-df-buttons\">\n",
              "\n",
              "  <div class=\"colab-df-container\">\n",
              "    <button class=\"colab-df-convert\" onclick=\"convertToInteractive('df-36d13554-e842-44b1-94ad-46f17ff6a784')\"\n",
              "            title=\"Convert this dataframe to an interactive table.\"\n",
              "            style=\"display:none;\">\n",
              "\n",
              "  <svg xmlns=\"http://www.w3.org/2000/svg\" height=\"24px\" viewBox=\"0 -960 960 960\">\n",
              "    <path d=\"M120-120v-720h720v720H120Zm60-500h600v-160H180v160Zm220 220h160v-160H400v160Zm0 220h160v-160H400v160ZM180-400h160v-160H180v160Zm440 0h160v-160H620v160ZM180-180h160v-160H180v160Zm440 0h160v-160H620v160Z\"/>\n",
              "  </svg>\n",
              "    </button>\n",
              "\n",
              "  <style>\n",
              "    .colab-df-container {\n",
              "      display:flex;\n",
              "      gap: 12px;\n",
              "    }\n",
              "\n",
              "    .colab-df-convert {\n",
              "      background-color: #E8F0FE;\n",
              "      border: none;\n",
              "      border-radius: 50%;\n",
              "      cursor: pointer;\n",
              "      display: none;\n",
              "      fill: #1967D2;\n",
              "      height: 32px;\n",
              "      padding: 0 0 0 0;\n",
              "      width: 32px;\n",
              "    }\n",
              "\n",
              "    .colab-df-convert:hover {\n",
              "      background-color: #E2EBFA;\n",
              "      box-shadow: 0px 1px 2px rgba(60, 64, 67, 0.3), 0px 1px 3px 1px rgba(60, 64, 67, 0.15);\n",
              "      fill: #174EA6;\n",
              "    }\n",
              "\n",
              "    .colab-df-buttons div {\n",
              "      margin-bottom: 4px;\n",
              "    }\n",
              "\n",
              "    [theme=dark] .colab-df-convert {\n",
              "      background-color: #3B4455;\n",
              "      fill: #D2E3FC;\n",
              "    }\n",
              "\n",
              "    [theme=dark] .colab-df-convert:hover {\n",
              "      background-color: #434B5C;\n",
              "      box-shadow: 0px 1px 3px 1px rgba(0, 0, 0, 0.15);\n",
              "      filter: drop-shadow(0px 1px 2px rgba(0, 0, 0, 0.3));\n",
              "      fill: #FFFFFF;\n",
              "    }\n",
              "  </style>\n",
              "\n",
              "    <script>\n",
              "      const buttonEl =\n",
              "        document.querySelector('#df-36d13554-e842-44b1-94ad-46f17ff6a784 button.colab-df-convert');\n",
              "      buttonEl.style.display =\n",
              "        google.colab.kernel.accessAllowed ? 'block' : 'none';\n",
              "\n",
              "      async function convertToInteractive(key) {\n",
              "        const element = document.querySelector('#df-36d13554-e842-44b1-94ad-46f17ff6a784');\n",
              "        const dataTable =\n",
              "          await google.colab.kernel.invokeFunction('convertToInteractive',\n",
              "                                                    [key], {});\n",
              "        if (!dataTable) return;\n",
              "\n",
              "        const docLinkHtml = 'Like what you see? Visit the ' +\n",
              "          '<a target=\"_blank\" href=https://colab.research.google.com/notebooks/data_table.ipynb>data table notebook</a>'\n",
              "          + ' to learn more about interactive tables.';\n",
              "        element.innerHTML = '';\n",
              "        dataTable['output_type'] = 'display_data';\n",
              "        await google.colab.output.renderOutput(dataTable, element);\n",
              "        const docLink = document.createElement('div');\n",
              "        docLink.innerHTML = docLinkHtml;\n",
              "        element.appendChild(docLink);\n",
              "      }\n",
              "    </script>\n",
              "  </div>\n",
              "\n",
              "\n",
              "<div id=\"df-00d6d5d0-bc32-4d18-ab0d-d5b9080fe23b\">\n",
              "  <button class=\"colab-df-quickchart\" onclick=\"quickchart('df-00d6d5d0-bc32-4d18-ab0d-d5b9080fe23b')\"\n",
              "            title=\"Suggest charts\"\n",
              "            style=\"display:none;\">\n",
              "\n",
              "<svg xmlns=\"http://www.w3.org/2000/svg\" height=\"24px\"viewBox=\"0 0 24 24\"\n",
              "     width=\"24px\">\n",
              "    <g>\n",
              "        <path d=\"M19 3H5c-1.1 0-2 .9-2 2v14c0 1.1.9 2 2 2h14c1.1 0 2-.9 2-2V5c0-1.1-.9-2-2-2zM9 17H7v-7h2v7zm4 0h-2V7h2v10zm4 0h-2v-4h2v4z\"/>\n",
              "    </g>\n",
              "</svg>\n",
              "  </button>\n",
              "\n",
              "<style>\n",
              "  .colab-df-quickchart {\n",
              "      --bg-color: #E8F0FE;\n",
              "      --fill-color: #1967D2;\n",
              "      --hover-bg-color: #E2EBFA;\n",
              "      --hover-fill-color: #174EA6;\n",
              "      --disabled-fill-color: #AAA;\n",
              "      --disabled-bg-color: #DDD;\n",
              "  }\n",
              "\n",
              "  [theme=dark] .colab-df-quickchart {\n",
              "      --bg-color: #3B4455;\n",
              "      --fill-color: #D2E3FC;\n",
              "      --hover-bg-color: #434B5C;\n",
              "      --hover-fill-color: #FFFFFF;\n",
              "      --disabled-bg-color: #3B4455;\n",
              "      --disabled-fill-color: #666;\n",
              "  }\n",
              "\n",
              "  .colab-df-quickchart {\n",
              "    background-color: var(--bg-color);\n",
              "    border: none;\n",
              "    border-radius: 50%;\n",
              "    cursor: pointer;\n",
              "    display: none;\n",
              "    fill: var(--fill-color);\n",
              "    height: 32px;\n",
              "    padding: 0;\n",
              "    width: 32px;\n",
              "  }\n",
              "\n",
              "  .colab-df-quickchart:hover {\n",
              "    background-color: var(--hover-bg-color);\n",
              "    box-shadow: 0 1px 2px rgba(60, 64, 67, 0.3), 0 1px 3px 1px rgba(60, 64, 67, 0.15);\n",
              "    fill: var(--button-hover-fill-color);\n",
              "  }\n",
              "\n",
              "  .colab-df-quickchart-complete:disabled,\n",
              "  .colab-df-quickchart-complete:disabled:hover {\n",
              "    background-color: var(--disabled-bg-color);\n",
              "    fill: var(--disabled-fill-color);\n",
              "    box-shadow: none;\n",
              "  }\n",
              "\n",
              "  .colab-df-spinner {\n",
              "    border: 2px solid var(--fill-color);\n",
              "    border-color: transparent;\n",
              "    border-bottom-color: var(--fill-color);\n",
              "    animation:\n",
              "      spin 1s steps(1) infinite;\n",
              "  }\n",
              "\n",
              "  @keyframes spin {\n",
              "    0% {\n",
              "      border-color: transparent;\n",
              "      border-bottom-color: var(--fill-color);\n",
              "      border-left-color: var(--fill-color);\n",
              "    }\n",
              "    20% {\n",
              "      border-color: transparent;\n",
              "      border-left-color: var(--fill-color);\n",
              "      border-top-color: var(--fill-color);\n",
              "    }\n",
              "    30% {\n",
              "      border-color: transparent;\n",
              "      border-left-color: var(--fill-color);\n",
              "      border-top-color: var(--fill-color);\n",
              "      border-right-color: var(--fill-color);\n",
              "    }\n",
              "    40% {\n",
              "      border-color: transparent;\n",
              "      border-right-color: var(--fill-color);\n",
              "      border-top-color: var(--fill-color);\n",
              "    }\n",
              "    60% {\n",
              "      border-color: transparent;\n",
              "      border-right-color: var(--fill-color);\n",
              "    }\n",
              "    80% {\n",
              "      border-color: transparent;\n",
              "      border-right-color: var(--fill-color);\n",
              "      border-bottom-color: var(--fill-color);\n",
              "    }\n",
              "    90% {\n",
              "      border-color: transparent;\n",
              "      border-bottom-color: var(--fill-color);\n",
              "    }\n",
              "  }\n",
              "</style>\n",
              "\n",
              "  <script>\n",
              "    async function quickchart(key) {\n",
              "      const quickchartButtonEl =\n",
              "        document.querySelector('#' + key + ' button');\n",
              "      quickchartButtonEl.disabled = true;  // To prevent multiple clicks.\n",
              "      quickchartButtonEl.classList.add('colab-df-spinner');\n",
              "      try {\n",
              "        const charts = await google.colab.kernel.invokeFunction(\n",
              "            'suggestCharts', [key], {});\n",
              "      } catch (error) {\n",
              "        console.error('Error during call to suggestCharts:', error);\n",
              "      }\n",
              "      quickchartButtonEl.classList.remove('colab-df-spinner');\n",
              "      quickchartButtonEl.classList.add('colab-df-quickchart-complete');\n",
              "    }\n",
              "    (() => {\n",
              "      let quickchartButtonEl =\n",
              "        document.querySelector('#df-00d6d5d0-bc32-4d18-ab0d-d5b9080fe23b button');\n",
              "      quickchartButtonEl.style.display =\n",
              "        google.colab.kernel.accessAllowed ? 'block' : 'none';\n",
              "    })();\n",
              "  </script>\n",
              "</div>\n",
              "\n",
              "  <div id=\"id_7a6f5780-406a-4692-b189-64cfd4d3ffde\">\n",
              "    <style>\n",
              "      .colab-df-generate {\n",
              "        background-color: #E8F0FE;\n",
              "        border: none;\n",
              "        border-radius: 50%;\n",
              "        cursor: pointer;\n",
              "        display: none;\n",
              "        fill: #1967D2;\n",
              "        height: 32px;\n",
              "        padding: 0 0 0 0;\n",
              "        width: 32px;\n",
              "      }\n",
              "\n",
              "      .colab-df-generate:hover {\n",
              "        background-color: #E2EBFA;\n",
              "        box-shadow: 0px 1px 2px rgba(60, 64, 67, 0.3), 0px 1px 3px 1px rgba(60, 64, 67, 0.15);\n",
              "        fill: #174EA6;\n",
              "      }\n",
              "\n",
              "      [theme=dark] .colab-df-generate {\n",
              "        background-color: #3B4455;\n",
              "        fill: #D2E3FC;\n",
              "      }\n",
              "\n",
              "      [theme=dark] .colab-df-generate:hover {\n",
              "        background-color: #434B5C;\n",
              "        box-shadow: 0px 1px 3px 1px rgba(0, 0, 0, 0.15);\n",
              "        filter: drop-shadow(0px 1px 2px rgba(0, 0, 0, 0.3));\n",
              "        fill: #FFFFFF;\n",
              "      }\n",
              "    </style>\n",
              "    <button class=\"colab-df-generate\" onclick=\"generateWithVariable('df')\"\n",
              "            title=\"Generate code using this dataframe.\"\n",
              "            style=\"display:none;\">\n",
              "\n",
              "  <svg xmlns=\"http://www.w3.org/2000/svg\" height=\"24px\"viewBox=\"0 0 24 24\"\n",
              "       width=\"24px\">\n",
              "    <path d=\"M7,19H8.4L18.45,9,17,7.55,7,17.6ZM5,21V16.75L18.45,3.32a2,2,0,0,1,2.83,0l1.4,1.43a1.91,1.91,0,0,1,.58,1.4,1.91,1.91,0,0,1-.58,1.4L9.25,21ZM18.45,9,17,7.55Zm-12,3A5.31,5.31,0,0,0,4.9,8.1,5.31,5.31,0,0,0,1,6.5,5.31,5.31,0,0,0,4.9,4.9,5.31,5.31,0,0,0,6.5,1,5.31,5.31,0,0,0,8.1,4.9,5.31,5.31,0,0,0,12,6.5,5.46,5.46,0,0,0,6.5,12Z\"/>\n",
              "  </svg>\n",
              "    </button>\n",
              "    <script>\n",
              "      (() => {\n",
              "      const buttonEl =\n",
              "        document.querySelector('#id_7a6f5780-406a-4692-b189-64cfd4d3ffde button.colab-df-generate');\n",
              "      buttonEl.style.display =\n",
              "        google.colab.kernel.accessAllowed ? 'block' : 'none';\n",
              "\n",
              "      buttonEl.onclick = () => {\n",
              "        google.colab.notebook.generateWithVariable('df');\n",
              "      }\n",
              "      })();\n",
              "    </script>\n",
              "  </div>\n",
              "\n",
              "    </div>\n",
              "  </div>\n"
            ],
            "application/vnd.google.colaboratory.intrinsic+json": {
              "type": "dataframe",
              "variable_name": "df",
              "summary": "{\n  \"name\": \"df\",\n  \"rows\": 2465,\n  \"fields\": [\n    {\n      \"column\": \"CustomerID\",\n      \"properties\": {\n        \"dtype\": \"number\",\n        \"std\": 723,\n        \"min\": 1,\n        \"max\": 2500,\n        \"num_unique_values\": 2465,\n        \"samples\": [\n          113,\n          772,\n          947\n        ],\n        \"semantic_type\": \"\",\n        \"description\": \"\"\n      }\n    },\n    {\n      \"column\": \"Gender\",\n      \"properties\": {\n        \"dtype\": \"number\",\n        \"std\": 0.4944663626036366,\n        \"min\": 0.0,\n        \"max\": 1.0,\n        \"num_unique_values\": 2,\n        \"samples\": [\n          0.0,\n          1.0\n        ],\n        \"semantic_type\": \"\",\n        \"description\": \"\"\n      }\n    },\n    {\n      \"column\": \"Age\",\n      \"properties\": {\n        \"dtype\": \"number\",\n        \"std\": 26,\n        \"min\": 0,\n        \"max\": 99,\n        \"num_unique_values\": 100,\n        \"samples\": [\n          90,\n          62\n        ],\n        \"semantic_type\": \"\",\n        \"description\": \"\"\n      }\n    },\n    {\n      \"column\": \"Annual Income ($)\",\n      \"properties\": {\n        \"dtype\": \"number\",\n        \"std\": 0.2566849059522862,\n        \"min\": 0.0,\n        \"max\": 1.0,\n        \"num_unique_values\": 2246,\n        \"samples\": [\n          0.6630802109762388,\n          0.599208312716477\n        ],\n        \"semantic_type\": \"\",\n        \"description\": \"\"\n      }\n    },\n    {\n      \"column\": \"Spending Score (1-100)\",\n      \"properties\": {\n        \"dtype\": \"number\",\n        \"std\": 0.2815790841137948,\n        \"min\": 0.0,\n        \"max\": 1.0,\n        \"num_unique_values\": 101,\n        \"samples\": [\n          0.0,\n          0.11\n        ],\n        \"semantic_type\": \"\",\n        \"description\": \"\"\n      }\n    },\n    {\n      \"column\": \"Profession\",\n      \"properties\": {\n        \"dtype\": \"category\",\n        \"num_unique_values\": 9,\n        \"samples\": [\n          \"Homemaker\",\n          \"Engineer\"\n        ],\n        \"semantic_type\": \"\",\n        \"description\": \"\"\n      }\n    },\n    {\n      \"column\": \"Work Experience\",\n      \"properties\": {\n        \"dtype\": \"number\",\n        \"std\": 4,\n        \"min\": 0,\n        \"max\": 17,\n        \"num_unique_values\": 18,\n        \"samples\": [\n          1,\n          3\n        ],\n        \"semantic_type\": \"\",\n        \"description\": \"\"\n      }\n    },\n    {\n      \"column\": \"Family Size\",\n      \"properties\": {\n        \"dtype\": \"number\",\n        \"std\": 1,\n        \"min\": 1,\n        \"max\": 9,\n        \"num_unique_values\": 9,\n        \"samples\": [\n          7,\n          3\n        ],\n        \"semantic_type\": \"\",\n        \"description\": \"\"\n      }\n    },\n    {\n      \"column\": \"Age_Group\",\n      \"properties\": {\n        \"dtype\": \"category\",\n        \"num_unique_values\": 4,\n        \"samples\": [\n          \"Middle-aged\",\n          \"Senior\"\n        ],\n        \"semantic_type\": \"\",\n        \"description\": \"\"\n      }\n    },\n    {\n      \"column\": \"Cluster\",\n      \"properties\": {\n        \"dtype\": \"number\",\n        \"std\": 0,\n        \"min\": 1,\n        \"max\": 3,\n        \"num_unique_values\": 3,\n        \"samples\": [\n          2,\n          1\n        ],\n        \"semantic_type\": \"\",\n        \"description\": \"\"\n      }\n    }\n  ]\n}"
            }
          },
          "metadata": {},
          "execution_count": 92
        }
      ]
    },
    {
      "cell_type": "markdown",
      "source": [
        "# **3. Data Splitting**"
      ],
      "metadata": {
        "id": "KkPem5eWL2UP"
      }
    },
    {
      "cell_type": "markdown",
      "source": [
        "Tahap Data Splitting bertujuan untuk memisahkan dataset menjadi dua bagian: data latih (training set) dan data uji (test set)."
      ],
      "metadata": {
        "id": "YYj1rl_JNI9Y"
      }
    },
    {
      "cell_type": "code",
      "source": [
        "# Pisahkan fitur (X) dan target (y)\n",
        "X = df.drop(columns=['Cluster'])  # Pastikan 'Cluster' adalah label yang ingin diprediksi\n",
        "y = df['Cluster']\n",
        "\n",
        "# One-Hot Encoding untuk data kategorikal\n",
        "X = pd.get_dummies(X, columns=['Profession', 'Age_Group'], drop_first=True)\n",
        "\n",
        "# Bagi data menjadi data latih dan uji (80:20)\n",
        "X_train, X_test, y_train, y_test = train_test_split(X, y, test_size=0.2, random_state=42)\n",
        "\n",
        "# Standarisasi data numerik\n",
        "scaler = StandardScaler()\n",
        "X_train = scaler.fit_transform(X_train)\n",
        "X_test = scaler.transform(X_test)"
      ],
      "metadata": {
        "id": "OubAW-7ONKVj"
      },
      "execution_count": 93,
      "outputs": []
    },
    {
      "cell_type": "markdown",
      "source": [
        "Tahapan ini dimulai dengan memisahkan fitur (X) dan target (y), di mana 'Cluster' menjadi label yang akan diprediksi. Selanjutnya, dilakukan One-Hot Encoding pada fitur kategorikal seperti 'Profession' dan 'Age_Group' untuk mengonversinya menjadi bentuk numerik. Data kemudian dibagi menjadi data latih (80%) dan data uji (20%) menggunakan train_test_split(), memastikan model memiliki cukup data untuk belajar dan diuji. Terakhir, dilakukan standarisasi menggunakan StandardScaler() untuk menormalkan fitur numerik, sehingga model dapat bekerja lebih optimal dan tidak terpengaruh oleh skala yang berbeda antar fitur."
      ],
      "metadata": {
        "id": "dQpCmqDdkWT2"
      }
    },
    {
      "cell_type": "markdown",
      "source": [
        "# **4. Membangun Model Klasifikasi**\n"
      ],
      "metadata": {
        "id": "IVPbB03CMhTT"
      }
    },
    {
      "cell_type": "markdown",
      "source": [
        "## **a. Membangun Model Klasifikasi**"
      ],
      "metadata": {
        "id": "Ned1pL9zMmBK"
      }
    },
    {
      "cell_type": "markdown",
      "source": [
        "Setelah memilih algoritma klasifikasi yang sesuai, langkah selanjutnya adalah melatih model menggunakan data latih.\n",
        "\n",
        "Berikut adalah rekomendasi tahapannya.\n",
        "1. Pilih algoritma klasifikasi yang sesuai, seperti Logistic Regression, Decision Tree, Random Forest, atau K-Nearest Neighbors (KNN).\n",
        "2. Latih model menggunakan data latih."
      ],
      "metadata": {
        "id": "WAWzPOE4Nkti"
      }
    },
    {
      "cell_type": "code",
      "source": [
        "# Inisialisasi model\n",
        "models = {\n",
        "    \"Logistic Regression\": LogisticRegression(),\n",
        "    \"Decision Tree\": DecisionTreeClassifier(),\n",
        "    \"Random Forest\": RandomForestClassifier(),\n",
        "    \"KNN\": KNeighborsClassifier(n_neighbors=5)\n",
        "}"
      ],
      "metadata": {
        "id": "AJjECcKUKSmL"
      },
      "execution_count": 94,
      "outputs": []
    },
    {
      "cell_type": "markdown",
      "source": [
        "Tahap ini menginisialisasi beberapa algoritma klasifikasi yang akan digunakan untuk membangun model. Model yang dipilih meliputi Logistic Regression, Decision Tree, Random Forest, dan K-Nearest Neighbors (KNN) dengan jumlah tetangga (n_neighbors=5). Setiap model memiliki pendekatan yang berbeda dalam mengklasifikasikan data, sehingga nantinya dapat dibandingkan untuk menentukan performa terbaik berdasarkan metrik evaluasi."
      ],
      "metadata": {
        "id": "qUyHUGpBlALm"
      }
    },
    {
      "cell_type": "code",
      "source": [
        "# Latih dan evaluasi setiap model\n",
        "for name, model in models.items():\n",
        "    model.fit(X_train, y_train)  # Latih model\n",
        "    y_pred = model.predict(X_test)  # Prediksi data uji\n",
        "    accuracy = accuracy_score(y_test, y_pred)  # Hitung akurasi\n",
        "    print(f\"{name} Accuracy: {accuracy:.2f}\")\n",
        "    print(classification_report(y_test, y_pred))"
      ],
      "metadata": {
        "colab": {
          "base_uri": "https://localhost:8080/"
        },
        "id": "PBo-YdxMh66E",
        "outputId": "e92c589b-7f9f-4406-8141-ddc17ba4b00c"
      },
      "execution_count": 95,
      "outputs": [
        {
          "output_type": "stream",
          "name": "stdout",
          "text": [
            "Logistic Regression Accuracy: 0.99\n",
            "              precision    recall  f1-score   support\n",
            "\n",
            "           1       0.99      0.99      0.99       156\n",
            "           2       1.00      1.00      1.00       209\n",
            "           3       0.99      0.98      0.99       128\n",
            "\n",
            "    accuracy                           0.99       493\n",
            "   macro avg       0.99      0.99      0.99       493\n",
            "weighted avg       0.99      0.99      0.99       493\n",
            "\n",
            "Decision Tree Accuracy: 0.99\n",
            "              precision    recall  f1-score   support\n",
            "\n",
            "           1       0.99      0.99      0.99       156\n",
            "           2       1.00      1.00      1.00       209\n",
            "           3       0.98      0.99      0.99       128\n",
            "\n",
            "    accuracy                           0.99       493\n",
            "   macro avg       0.99      0.99      0.99       493\n",
            "weighted avg       0.99      0.99      0.99       493\n",
            "\n",
            "Random Forest Accuracy: 0.99\n",
            "              precision    recall  f1-score   support\n",
            "\n",
            "           1       0.99      0.98      0.99       156\n",
            "           2       1.00      1.00      1.00       209\n",
            "           3       0.98      0.99      0.98       128\n",
            "\n",
            "    accuracy                           0.99       493\n",
            "   macro avg       0.99      0.99      0.99       493\n",
            "weighted avg       0.99      0.99      0.99       493\n",
            "\n",
            "KNN Accuracy: 0.87\n",
            "              precision    recall  f1-score   support\n",
            "\n",
            "           1       0.82      0.83      0.82       156\n",
            "           2       0.96      0.95      0.96       209\n",
            "           3       0.80      0.80      0.80       128\n",
            "\n",
            "    accuracy                           0.87       493\n",
            "   macro avg       0.86      0.86      0.86       493\n",
            "weighted avg       0.87      0.87      0.87       493\n",
            "\n"
          ]
        }
      ]
    },
    {
      "cell_type": "markdown",
      "source": [
        "Tahap ini melibatkan pelatihan dan evaluasi model klasifikasi menggunakan data latih dan uji. Setiap model dilatih dengan X_train dan y_train, kemudian melakukan prediksi pada X_test. Hasil prediksi dibandingkan dengan data asli (y_test) untuk menghitung akurasi dan menampilkan metrik evaluasi lainnya seperti precision, recall, dan f1-score. Hasil menunjukkan bahwa Logistic Regression, Decision Tree, dan Random Forest memiliki akurasi tinggi (99%), sedangkan KNN memiliki akurasi lebih rendah (87%)."
      ],
      "metadata": {
        "id": "seYoHNY3XU1y"
      }
    },
    {
      "cell_type": "markdown",
      "source": [
        "## **b. Evaluasi Model Klasifikasi**"
      ],
      "metadata": {
        "id": "ergzChZFEL-O"
      }
    },
    {
      "cell_type": "markdown",
      "source": [
        "Berikut adalah **rekomendasi** tahapannya.\n",
        "1. Lakukan prediksi menggunakan data uji.\n",
        "2. Hitung metrik evaluasi seperti Accuracy dan F1-Score (Opsional: Precision dan Recall).\n",
        "3. Buat confusion matrix untuk melihat detail prediksi benar dan salah."
      ],
      "metadata": {
        "id": "zOm68u-7NpLT"
      }
    },
    {
      "cell_type": "code",
      "source": [
        "# Evaluasi setiap model\n",
        "for name, model in models.items():\n",
        "    print(f\"\\nEvaluasi Model: {name}\")\n",
        "\n",
        "    # Prediksi dengan data uji\n",
        "    y_pred = model.predict(X_test)\n",
        "\n",
        "    # Hitung metrik evaluasi\n",
        "    accuracy = accuracy_score(y_test, y_pred)\n",
        "    precision = precision_score(y_test, y_pred, average='weighted')\n",
        "    recall = recall_score(y_test, y_pred, average='weighted')\n",
        "    f1 = f1_score(y_test, y_pred, average='weighted')\n",
        "\n",
        "    # Cetak hasil evaluasi\n",
        "    print(f\"Accuracy: {accuracy:.2f}\")\n",
        "    print(f\"Precision: {precision:.2f}\")\n",
        "    print(f\"Recall: {recall:.2f}\")\n",
        "    print(f\"F1-Score: {f1:.2f}\")"
      ],
      "metadata": {
        "id": "tMq4QAssNLip",
        "colab": {
          "base_uri": "https://localhost:8080/"
        },
        "outputId": "ec1489e4-ce28-40ec-93ef-cec9173057dd"
      },
      "execution_count": 96,
      "outputs": [
        {
          "output_type": "stream",
          "name": "stdout",
          "text": [
            "\n",
            "Evaluasi Model: Logistic Regression\n",
            "Accuracy: 0.99\n",
            "Precision: 0.99\n",
            "Recall: 0.99\n",
            "F1-Score: 0.99\n",
            "\n",
            "Evaluasi Model: Decision Tree\n",
            "Accuracy: 0.99\n",
            "Precision: 0.99\n",
            "Recall: 0.99\n",
            "F1-Score: 0.99\n",
            "\n",
            "Evaluasi Model: Random Forest\n",
            "Accuracy: 0.99\n",
            "Precision: 0.99\n",
            "Recall: 0.99\n",
            "F1-Score: 0.99\n",
            "\n",
            "Evaluasi Model: KNN\n",
            "Accuracy: 0.87\n",
            "Precision: 0.87\n",
            "Recall: 0.87\n",
            "F1-Score: 0.87\n"
          ]
        }
      ]
    },
    {
      "cell_type": "markdown",
      "source": [
        "Pada tahap evaluasi ini, masing-masing model diuji menggunakan data uji, dan beberapa metrik evaluasi dihitung, termasuk Accuracy, Precision, Recall, dan F1-Score. Hasil evaluasi menunjukkan bahwa Logistic Regression, Decision Tree, dan Random Forest memiliki performa yang sangat baik dengan nilai akurasi dan metrik lainnya mencapai sekitar 99%. Sebaliknya, KNN menunjukkan akurasi lebih rendah (87%) dan metrik lainnya juga lebih rendah, yang menunjukkan bahwa model berbasis pohon lebih efektif dalam kasus ini."
      ],
      "metadata": {
        "id": "A2Ol_oXSldsK"
      }
    },
    {
      "cell_type": "code",
      "source": [
        "# Menampilkan confusion matrix untuk setiap model\n",
        "for name, model in models.items():\n",
        "    y_pred = model.predict(X_test)\n",
        "    cm = confusion_matrix(y_test, y_pred)\n",
        "\n",
        "    print(f\"\\nConfusion Matrix - {name}\")\n",
        "    print(cm)\n",
        "\n",
        "    # Visualisasi confusion matrix\n",
        "    plt.figure(figsize=(5,4))\n",
        "    sns.heatmap(cm, annot=True, fmt='d', cmap='Blues')\n",
        "    plt.xlabel('Predicted')\n",
        "    plt.ylabel('Actual')\n",
        "    plt.title(f'Confusion Matrix - {name}')\n",
        "    plt.show()"
      ],
      "metadata": {
        "colab": {
          "base_uri": "https://localhost:8080/",
          "height": 1000
        },
        "id": "cAOOW_g6i4df",
        "outputId": "90298c92-8a69-485f-89f7-0e55d80da572"
      },
      "execution_count": 97,
      "outputs": [
        {
          "output_type": "stream",
          "name": "stdout",
          "text": [
            "\n",
            "Confusion Matrix - Logistic Regression\n",
            "[[155   0   1]\n",
            " [  0 209   0]\n",
            " [  2   0 126]]\n"
          ]
        },
        {
          "output_type": "display_data",
          "data": {
            "text/plain": [
              "<Figure size 500x400 with 2 Axes>"
            ],
            "image/png": "[encoded data removed]"
          },
          "metadata": {}
        },
        {
          "output_type": "stream",
          "name": "stdout",
          "text": [
            "\n",
            "Confusion Matrix - Decision Tree\n",
            "[[154   0   2]\n",
            " [  0 209   0]\n",
            " [  1   0 127]]\n"
          ]
        },
        {
          "output_type": "display_data",
          "data": {
            "text/plain": [
              "<Figure size 500x400 with 2 Axes>"
            ],
            "image/png": "[encoded data removed]"
          },
          "metadata": {}
        },
        {
          "output_type": "stream",
          "name": "stdout",
          "text": [
            "\n",
            "Confusion Matrix - Random Forest\n",
            "[[153   0   3]\n",
            " [  0 209   0]\n",
            " [  1   0 127]]\n"
          ]
        },
        {
          "output_type": "display_data",
          "data": {
            "text/plain": [
              "<Figure size 500x400 with 2 Axes>"
            ],
            "image/png": "[encoded data removed]"
          },
          "metadata": {}
        },
        {
          "output_type": "stream",
          "name": "stdout",
          "text": [
            "\n",
            "Confusion Matrix - KNN\n",
            "[[129   6  21]\n",
            " [  5 199   5]\n",
            " [ 24   2 102]]\n"
          ]
        },
        {
          "output_type": "display_data",
          "data": {
            "text/plain": [
              "<Figure size 500x400 with 2 Axes>"
            ],
            "image/png": "[encoded data removed]"
          },
          "metadata": {}
        }
      ]
    },
    {
      "cell_type": "markdown",
      "source": [
        "Hasil evaluasi untuk keempat algoritma klasifikasi yang digunakan, yaitu Logistic Regression, Decision Tree, Random Forest, dan KNN, menunjukkan perbedaan dalam akurasi dan kemampuan memprediksi label dengan tepat, seperti yang terlihat pada confusion matrix dan metrik evaluasi.\n",
        "\n",
        "1. Logistic Regression\n",
        "- Accuracy: 0.99\n",
        "- Precision, Recall, F1-Score: 0.99\n",
        "- Confusion matrix menunjukkan bahwa model ini sangat akurat dalam memprediksi hampir semua kelas dengan sangat sedikit kesalahan. Model ini memprediksi sebagian besar data dengan benar, hanya ada sedikit kesalahan di kelas pertama (1).\n",
        "\n",
        "2. Decision Tree:\n",
        "- Accuracy: 0.99\n",
        "- Precision, Recall, F1-Score: 0.99\n",
        "- Confusion matrix juga menunjukkan hasil yang hampir identik dengan Logistic Regression, dengan prediksi yang sangat akurat untuk kelas pertama dan kedua, serta sedikit kesalahan pada kelas ketiga.\n",
        "\n",
        "3. Random Forest:\n",
        "- Accuracy: 0.99\n",
        "- Precision, Recall, F1-Score: 0.99\n",
        "- Seperti halnya Logistic Regression dan Decision Tree, Random Forest menunjukkan hasil evaluasi yang sangat baik, dengan hampir tidak ada kesalahan dalam memprediksi kelas pertama dan kedua, serta sedikit kesalahan di kelas ketiga.\n",
        "\n",
        "4. K-Nearest Neighbors (KNN):\n",
        "- Accuracy: 0.87\n",
        "- Precision, Recall, F1-Score: 0.87\n",
        "- KNN memiliki akurasi yang lebih rendah dibandingkan dengan tiga model lainnya, dengan kesalahan yang lebih signifikan di kelas pertama dan ketiga. Confusion matrix menunjukkan bahwa KNN cenderung membuat lebih banyak kesalahan dalam memprediksi kelas pertama dan ketiga, meskipun masih mampu memprediksi sebagian besar kelas kedua dengan baik."
      ],
      "metadata": {
        "id": "XDkRkq7hl-go"
      }
    },
    {
      "cell_type": "markdown",
      "source": [
        "## **c. Analisis Hasil Evaluasi Model Klasifikasi**"
      ],
      "metadata": {
        "id": "ZRsOdm4uEgAW"
      }
    },
    {
      "cell_type": "markdown",
      "source": [
        "**Berdasarkan hasil evaluasi yang telah dilakukan, berikut adalah analisis untuk setiap model yang digunakan.**\n",
        "\n",
        "1. Logistic Regression, Decision Tree, dan Random Forest:\n",
        "- Ketiga model ini menunjukkan akurasi hampir 100% di seluruh metrik evaluasi (Precision, Recall, dan F1-Score), yang berarti mereka sangat efektif dalam memprediksi kelas-kelas dalam dataset ini. Hanya sedikit kesalahan yang terlihat dalam confusion matrix, terutama untuk kelas pertama.\n",
        "- Precision, Recall, dan F1-Score: Semua metrik ini cukup tinggi di semua kelas, menunjukkan bahwa model tidak hanya memprediksi dengan akurat, tetapi juga mempertimbangkan keseimbangan antara True Positives, False Positives, dan False Negatives.\n",
        "- Meskipun model memberikan hasil yang sangat baik pada data uji, kita perlu memeriksa kemungkinan overfitting, yaitu ketika model belajar terlalu banyak detail atau noise dari data latih dan tidak generalisasi dengan baik pada data baru. Ini dapat terjadi jika model terlalu kompleks (seperti pada Random Forest dan Decision Tree).\n",
        "- Tindakan lanjutan: Cobalah untuk menilai performa model pada dataset yang lebih besar atau menggunakan teknik validasi silang (cross-validation) untuk memastikan model tidak overfit.\n",
        "\n",
        "2. K-Nearest Neighbors (KNN):\n",
        "- KNN menunjukkan akurasi lebih rendah (87%) dibandingkan ketiga model lainnya. Model ini kesulitan untuk memprediksi dengan tepat untuk kelas pertama dan ketiga, seperti yang terlihat dalam confusion matrix, di mana banyak prediksi yang salah. Ini bisa menjadi indikasi bahwa model ini kurang efisien dalam memahami pola di kelas-kelas tersebut.\n",
        "- Precision, Recall, dan F1-Score: KNN memiliki Precision, Recall, dan F1-Score yang lebih rendah dibandingkan dengan model lainnya, terutama pada kelas pertama dan ketiga. Ini menunjukkan bahwa KNN lebih banyak menghasilkan False Positives dan False Negatives untuk kelas-kelas tersebut.\n",
        "- KNN bisa mengalami underfitting jika pemilihan parameter (seperti jumlah tetangga) tidak optimal atau jika data yang digunakan memiliki pola yang lebih kompleks dan tidak dapat dipelajari oleh model ini.\n",
        "- Tindakan lanjutan: Mencoba tuning parameter KNN (misalnya, mengubah nilai k atau menggunakan teknik normalisasi data yang lebih baik). Selain itu, jika model ini masih tidak memberikan hasil yang baik, pertimbangkan untuk mengganti KNN dengan algoritma yang lebih kompleks, seperti Random Forest atau SVM.\n",
        "\n",
        "**Rekomendasi Tindakan Lanjutan**\n",
        "\n",
        "1. Lakukan hyperparameter tuning untuk model yang kurang optimal seperti KNN, Decision Tree, dan Random Forest, menggunakan teknik seperti GridSearchCV atau RandomizedSearchCV untuk menemukan kombinasi parameter terbaik.\n",
        "Pertimbangkan untuk menerapkan regularisasi pada model Logistic Regression untuk mencegah overfitting.\n",
        "2. Gunakan cross-validation untuk memastikan model tidak overfit atau underfit dan bekerja baik pada data yang lebih bervariasi. Hal ini juga membantu mengukur akurasi model dengan lebih stabil dan lebih."
      ],
      "metadata": {
        "id": "Hm3BhSi6N4_l"
      }
    }
  ]
}