{
  "nbformat": 4,
  "nbformat_minor": 0,
  "metadata": {
    "colab": {
      "provenance": [],
      "include_colab_link": true
    },
    "kernelspec": {
      "name": "python3",
      "display_name": "Python 3"
    },
    "language_info": {
      "name": "python"
    }
  },
  "cells": [
    {
      "cell_type": "markdown",
      "metadata": {
        "id": "view-in-github",
        "colab_type": "text"
      },
      "source": [
        "<a href=\"https://colab.research.google.com/github/noviantisafitri/Machine-Learning-for-Beginners/blob/main/%5BKlasifikasi%5D_Submission_Akhir_BMLP_Novianti_Safitri.ipynb\" target=\"_parent\"><img src=\"https://colab.research.google.com/assets/colab-badge.svg\" alt=\"Open In Colab\"/></a>"
      ]
    },
    {
      "cell_type": "markdown",
      "source": [
        "# **1. Import Library**"
      ],
      "metadata": {
        "id": "fKADPWcFKlj3"
      }
    },
    {
      "cell_type": "markdown",
      "source": [
        "Pada tahap ini, Anda perlu mengimpor beberapa pustaka (library) Python yang dibutuhkan untuk analisis data dan pembangunan model machine learning."
      ],
      "metadata": {
        "id": "LgA3ERnVn84N"
      }
    },
    {
      "cell_type": "code",
      "source": [
        "import pandas as pd\n",
        "import numpy as np\n",
        "import matplotlib.pyplot as plt\n",
        "import seaborn as sns\n",
        "from sklearn.model_selection import train_test_split\n",
        "from sklearn.preprocessing import LabelEncoder, StandardScaler\n",
        "from sklearn.ensemble import RandomForestClassifier\n",
        "from sklearn.linear_model import LogisticRegression\n",
        "from sklearn.tree import DecisionTreeClassifier\n",
        "from sklearn.neighbors import KNeighborsClassifier\n",
        "from sklearn.svm import SVC\n",
        "from sklearn.metrics import accuracy_score, precision_score, recall_score, f1_score, confusion_matrix, classification_report"
      ],
      "metadata": {
        "id": "BlmvjLY9M4Yj"
      },
      "execution_count": 24,
      "outputs": []
    },
    {
      "cell_type": "markdown",
      "source": [
        "# **2. Memuat Dataset dari Hasil Clustering**"
      ],
      "metadata": {
        "id": "f3YIEnAFKrKL"
      }
    },
    {
      "cell_type": "markdown",
      "source": [
        "Memuat dataset hasil clustering dari file CSV ke dalam variabel DataFrame."
      ],
      "metadata": {
        "id": "Ey3ItwTen_7E"
      }
    },
    {
      "cell_type": "code",
      "source": [
        "df = pd.read_csv('https://raw.githubusercontent.com/noviantisafitri/Machine-Learning-for-Beginners/refs/heads/main/Clustering.csv')\n",
        "df"
      ],
      "metadata": {
        "id": "GHCGNTyrM5fS",
        "colab": {
          "base_uri": "https://localhost:8080/",
          "height": 423
        },
        "outputId": "732a6711-59fb-4657-ba35-0d0e65204660"
      },
      "execution_count": 25,
      "outputs": [
        {
          "output_type": "execute_result",
          "data": {
            "text/plain": [
              "      species    length    weight  w_l_ratio length_binned  Cluster\n",
              "0           0  0.156364  0.330189   0.428571          0-20        2\n",
              "1           0  0.020000  0.287736   0.696429          0-20        2\n",
              "2           0  0.073455  0.332547   0.589286          0-20        2\n",
              "3           0  0.044000  0.308962   0.642857          0-20        2\n",
              "4           0  0.162545  0.313679   0.410714          0-20        2\n",
              "...       ...       ...       ...        ...           ...      ...\n",
              "3965        8  0.881818  0.950472   0.214286          0-20        3\n",
              "3966        8  0.880000  0.959906   0.214286          0-20        3\n",
              "3967        8  0.847273  0.957547   0.232143          0-20        3\n",
              "3968        8  0.961818  0.990566   0.196429          0-20        3\n",
              "3969        8  0.918545  0.964623   0.196429          0-20        3\n",
              "\n",
              "[3970 rows x 6 columns]"
            ],
            "text/html": [
              "\n",
              "  <div id=\"df-eb9ae0a0-cca2-4ea6-95bd-15708fac2a45\" class=\"colab-df-container\">\n",
              "    <div>\n",
              "<style scoped>\n",
              "    .dataframe tbody tr th:only-of-type {\n",
              "        vertical-align: middle;\n",
              "    }\n",
              "\n",
              "    .dataframe tbody tr th {\n",
              "        vertical-align: top;\n",
              "    }\n",
              "\n",
              "    .dataframe thead th {\n",
              "        text-align: right;\n",
              "    }\n",
              "</style>\n",
              "<table border=\"1\" class=\"dataframe\">\n",
              "  <thead>\n",
              "    <tr style=\"text-align: right;\">\n",
              "      <th></th>\n",
              "      <th>species</th>\n",
              "      <th>length</th>\n",
              "      <th>weight</th>\n",
              "      <th>w_l_ratio</th>\n",
              "      <th>length_binned</th>\n",
              "      <th>Cluster</th>\n",
              "    </tr>\n",
              "  </thead>\n",
              "  <tbody>\n",
              "    <tr>\n",
              "      <th>0</th>\n",
              "      <td>0</td>\n",
              "      <td>0.156364</td>\n",
              "      <td>0.330189</td>\n",
              "      <td>0.428571</td>\n",
              "      <td>0-20</td>\n",
              "      <td>2</td>\n",
              "    </tr>\n",
              "    <tr>\n",
              "      <th>1</th>\n",
              "      <td>0</td>\n",
              "      <td>0.020000</td>\n",
              "      <td>0.287736</td>\n",
              "      <td>0.696429</td>\n",
              "      <td>0-20</td>\n",
              "      <td>2</td>\n",
              "    </tr>\n",
              "    <tr>\n",
              "      <th>2</th>\n",
              "      <td>0</td>\n",
              "      <td>0.073455</td>\n",
              "      <td>0.332547</td>\n",
              "      <td>0.589286</td>\n",
              "      <td>0-20</td>\n",
              "      <td>2</td>\n",
              "    </tr>\n",
              "    <tr>\n",
              "      <th>3</th>\n",
              "      <td>0</td>\n",
              "      <td>0.044000</td>\n",
              "      <td>0.308962</td>\n",
              "      <td>0.642857</td>\n",
              "      <td>0-20</td>\n",
              "      <td>2</td>\n",
              "    </tr>\n",
              "    <tr>\n",
              "      <th>4</th>\n",
              "      <td>0</td>\n",
              "      <td>0.162545</td>\n",
              "      <td>0.313679</td>\n",
              "      <td>0.410714</td>\n",
              "      <td>0-20</td>\n",
              "      <td>2</td>\n",
              "    </tr>\n",
              "    <tr>\n",
              "      <th>...</th>\n",
              "      <td>...</td>\n",
              "      <td>...</td>\n",
              "      <td>...</td>\n",
              "      <td>...</td>\n",
              "      <td>...</td>\n",
              "      <td>...</td>\n",
              "    </tr>\n",
              "    <tr>\n",
              "      <th>3965</th>\n",
              "      <td>8</td>\n",
              "      <td>0.881818</td>\n",
              "      <td>0.950472</td>\n",
              "      <td>0.214286</td>\n",
              "      <td>0-20</td>\n",
              "      <td>3</td>\n",
              "    </tr>\n",
              "    <tr>\n",
              "      <th>3966</th>\n",
              "      <td>8</td>\n",
              "      <td>0.880000</td>\n",
              "      <td>0.959906</td>\n",
              "      <td>0.214286</td>\n",
              "      <td>0-20</td>\n",
              "      <td>3</td>\n",
              "    </tr>\n",
              "    <tr>\n",
              "      <th>3967</th>\n",
              "      <td>8</td>\n",
              "      <td>0.847273</td>\n",
              "      <td>0.957547</td>\n",
              "      <td>0.232143</td>\n",
              "      <td>0-20</td>\n",
              "      <td>3</td>\n",
              "    </tr>\n",
              "    <tr>\n",
              "      <th>3968</th>\n",
              "      <td>8</td>\n",
              "      <td>0.961818</td>\n",
              "      <td>0.990566</td>\n",
              "      <td>0.196429</td>\n",
              "      <td>0-20</td>\n",
              "      <td>3</td>\n",
              "    </tr>\n",
              "    <tr>\n",
              "      <th>3969</th>\n",
              "      <td>8</td>\n",
              "      <td>0.918545</td>\n",
              "      <td>0.964623</td>\n",
              "      <td>0.196429</td>\n",
              "      <td>0-20</td>\n",
              "      <td>3</td>\n",
              "    </tr>\n",
              "  </tbody>\n",
              "</table>\n",
              "<p>3970 rows × 6 columns</p>\n",
              "</div>\n",
              "    <div class=\"colab-df-buttons\">\n",
              "\n",
              "  <div class=\"colab-df-container\">\n",
              "    <button class=\"colab-df-convert\" onclick=\"convertToInteractive('df-eb9ae0a0-cca2-4ea6-95bd-15708fac2a45')\"\n",
              "            title=\"Convert this dataframe to an interactive table.\"\n",
              "            style=\"display:none;\">\n",
              "\n",
              "  <svg xmlns=\"http://www.w3.org/2000/svg\" height=\"24px\" viewBox=\"0 -960 960 960\">\n",
              "    <path d=\"M120-120v-720h720v720H120Zm60-500h600v-160H180v160Zm220 220h160v-160H400v160Zm0 220h160v-160H400v160ZM180-400h160v-160H180v160Zm440 0h160v-160H620v160ZM180-180h160v-160H180v160Zm440 0h160v-160H620v160Z\"/>\n",
              "  </svg>\n",
              "    </button>\n",
              "\n",
              "  <style>\n",
              "    .colab-df-container {\n",
              "      display:flex;\n",
              "      gap: 12px;\n",
              "    }\n",
              "\n",
              "    .colab-df-convert {\n",
              "      background-color: #E8F0FE;\n",
              "      border: none;\n",
              "      border-radius: 50%;\n",
              "      cursor: pointer;\n",
              "      display: none;\n",
              "      fill: #1967D2;\n",
              "      height: 32px;\n",
              "      padding: 0 0 0 0;\n",
              "      width: 32px;\n",
              "    }\n",
              "\n",
              "    .colab-df-convert:hover {\n",
              "      background-color: #E2EBFA;\n",
              "      box-shadow: 0px 1px 2px rgba(60, 64, 67, 0.3), 0px 1px 3px 1px rgba(60, 64, 67, 0.15);\n",
              "      fill: #174EA6;\n",
              "    }\n",
              "\n",
              "    .colab-df-buttons div {\n",
              "      margin-bottom: 4px;\n",
              "    }\n",
              "\n",
              "    [theme=dark] .colab-df-convert {\n",
              "      background-color: #3B4455;\n",
              "      fill: #D2E3FC;\n",
              "    }\n",
              "\n",
              "    [theme=dark] .colab-df-convert:hover {\n",
              "      background-color: #434B5C;\n",
              "      box-shadow: 0px 1px 3px 1px rgba(0, 0, 0, 0.15);\n",
              "      filter: drop-shadow(0px 1px 2px rgba(0, 0, 0, 0.3));\n",
              "      fill: #FFFFFF;\n",
              "    }\n",
              "  </style>\n",
              "\n",
              "    <script>\n",
              "      const buttonEl =\n",
              "        document.querySelector('#df-eb9ae0a0-cca2-4ea6-95bd-15708fac2a45 button.colab-df-convert');\n",
              "      buttonEl.style.display =\n",
              "        google.colab.kernel.accessAllowed ? 'block' : 'none';\n",
              "\n",
              "      async function convertToInteractive(key) {\n",
              "        const element = document.querySelector('#df-eb9ae0a0-cca2-4ea6-95bd-15708fac2a45');\n",
              "        const dataTable =\n",
              "          await google.colab.kernel.invokeFunction('convertToInteractive',\n",
              "                                                    [key], {});\n",
              "        if (!dataTable) return;\n",
              "\n",
              "        const docLinkHtml = 'Like what you see? Visit the ' +\n",
              "          '<a target=\"_blank\" href=https://colab.research.google.com/notebooks/data_table.ipynb>data table notebook</a>'\n",
              "          + ' to learn more about interactive tables.';\n",
              "        element.innerHTML = '';\n",
              "        dataTable['output_type'] = 'display_data';\n",
              "        await google.colab.output.renderOutput(dataTable, element);\n",
              "        const docLink = document.createElement('div');\n",
              "        docLink.innerHTML = docLinkHtml;\n",
              "        element.appendChild(docLink);\n",
              "      }\n",
              "    </script>\n",
              "  </div>\n",
              "\n",
              "\n",
              "<div id=\"df-6f6aa426-c8d4-4f71-aa05-b4f850f3c2f8\">\n",
              "  <button class=\"colab-df-quickchart\" onclick=\"quickchart('df-6f6aa426-c8d4-4f71-aa05-b4f850f3c2f8')\"\n",
              "            title=\"Suggest charts\"\n",
              "            style=\"display:none;\">\n",
              "\n",
              "<svg xmlns=\"http://www.w3.org/2000/svg\" height=\"24px\"viewBox=\"0 0 24 24\"\n",
              "     width=\"24px\">\n",
              "    <g>\n",
              "        <path d=\"M19 3H5c-1.1 0-2 .9-2 2v14c0 1.1.9 2 2 2h14c1.1 0 2-.9 2-2V5c0-1.1-.9-2-2-2zM9 17H7v-7h2v7zm4 0h-2V7h2v10zm4 0h-2v-4h2v4z\"/>\n",
              "    </g>\n",
              "</svg>\n",
              "  </button>\n",
              "\n",
              "<style>\n",
              "  .colab-df-quickchart {\n",
              "      --bg-color: #E8F0FE;\n",
              "      --fill-color: #1967D2;\n",
              "      --hover-bg-color: #E2EBFA;\n",
              "      --hover-fill-color: #174EA6;\n",
              "      --disabled-fill-color: #AAA;\n",
              "      --disabled-bg-color: #DDD;\n",
              "  }\n",
              "\n",
              "  [theme=dark] .colab-df-quickchart {\n",
              "      --bg-color: #3B4455;\n",
              "      --fill-color: #D2E3FC;\n",
              "      --hover-bg-color: #434B5C;\n",
              "      --hover-fill-color: #FFFFFF;\n",
              "      --disabled-bg-color: #3B4455;\n",
              "      --disabled-fill-color: #666;\n",
              "  }\n",
              "\n",
              "  .colab-df-quickchart {\n",
              "    background-color: var(--bg-color);\n",
              "    border: none;\n",
              "    border-radius: 50%;\n",
              "    cursor: pointer;\n",
              "    display: none;\n",
              "    fill: var(--fill-color);\n",
              "    height: 32px;\n",
              "    padding: 0;\n",
              "    width: 32px;\n",
              "  }\n",
              "\n",
              "  .colab-df-quickchart:hover {\n",
              "    background-color: var(--hover-bg-color);\n",
              "    box-shadow: 0 1px 2px rgba(60, 64, 67, 0.3), 0 1px 3px 1px rgba(60, 64, 67, 0.15);\n",
              "    fill: var(--button-hover-fill-color);\n",
              "  }\n",
              "\n",
              "  .colab-df-quickchart-complete:disabled,\n",
              "  .colab-df-quickchart-complete:disabled:hover {\n",
              "    background-color: var(--disabled-bg-color);\n",
              "    fill: var(--disabled-fill-color);\n",
              "    box-shadow: none;\n",
              "  }\n",
              "\n",
              "  .colab-df-spinner {\n",
              "    border: 2px solid var(--fill-color);\n",
              "    border-color: transparent;\n",
              "    border-bottom-color: var(--fill-color);\n",
              "    animation:\n",
              "      spin 1s steps(1) infinite;\n",
              "  }\n",
              "\n",
              "  @keyframes spin {\n",
              "    0% {\n",
              "      border-color: transparent;\n",
              "      border-bottom-color: var(--fill-color);\n",
              "      border-left-color: var(--fill-color);\n",
              "    }\n",
              "    20% {\n",
              "      border-color: transparent;\n",
              "      border-left-color: var(--fill-color);\n",
              "      border-top-color: var(--fill-color);\n",
              "    }\n",
              "    30% {\n",
              "      border-color: transparent;\n",
              "      border-left-color: var(--fill-color);\n",
              "      border-top-color: var(--fill-color);\n",
              "      border-right-color: var(--fill-color);\n",
              "    }\n",
              "    40% {\n",
              "      border-color: transparent;\n",
              "      border-right-color: var(--fill-color);\n",
              "      border-top-color: var(--fill-color);\n",
              "    }\n",
              "    60% {\n",
              "      border-color: transparent;\n",
              "      border-right-color: var(--fill-color);\n",
              "    }\n",
              "    80% {\n",
              "      border-color: transparent;\n",
              "      border-right-color: var(--fill-color);\n",
              "      border-bottom-color: var(--fill-color);\n",
              "    }\n",
              "    90% {\n",
              "      border-color: transparent;\n",
              "      border-bottom-color: var(--fill-color);\n",
              "    }\n",
              "  }\n",
              "</style>\n",
              "\n",
              "  <script>\n",
              "    async function quickchart(key) {\n",
              "      const quickchartButtonEl =\n",
              "        document.querySelector('#' + key + ' button');\n",
              "      quickchartButtonEl.disabled = true;  // To prevent multiple clicks.\n",
              "      quickchartButtonEl.classList.add('colab-df-spinner');\n",
              "      try {\n",
              "        const charts = await google.colab.kernel.invokeFunction(\n",
              "            'suggestCharts', [key], {});\n",
              "      } catch (error) {\n",
              "        console.error('Error during call to suggestCharts:', error);\n",
              "      }\n",
              "      quickchartButtonEl.classList.remove('colab-df-spinner');\n",
              "      quickchartButtonEl.classList.add('colab-df-quickchart-complete');\n",
              "    }\n",
              "    (() => {\n",
              "      let quickchartButtonEl =\n",
              "        document.querySelector('#df-6f6aa426-c8d4-4f71-aa05-b4f850f3c2f8 button');\n",
              "      quickchartButtonEl.style.display =\n",
              "        google.colab.kernel.accessAllowed ? 'block' : 'none';\n",
              "    })();\n",
              "  </script>\n",
              "</div>\n",
              "\n",
              "  <div id=\"id_ca4a55c9-c1c3-480b-b958-6a883a000b64\">\n",
              "    <style>\n",
              "      .colab-df-generate {\n",
              "        background-color: #E8F0FE;\n",
              "        border: none;\n",
              "        border-radius: 50%;\n",
              "        cursor: pointer;\n",
              "        display: none;\n",
              "        fill: #1967D2;\n",
              "        height: 32px;\n",
              "        padding: 0 0 0 0;\n",
              "        width: 32px;\n",
              "      }\n",
              "\n",
              "      .colab-df-generate:hover {\n",
              "        background-color: #E2EBFA;\n",
              "        box-shadow: 0px 1px 2px rgba(60, 64, 67, 0.3), 0px 1px 3px 1px rgba(60, 64, 67, 0.15);\n",
              "        fill: #174EA6;\n",
              "      }\n",
              "\n",
              "      [theme=dark] .colab-df-generate {\n",
              "        background-color: #3B4455;\n",
              "        fill: #D2E3FC;\n",
              "      }\n",
              "\n",
              "      [theme=dark] .colab-df-generate:hover {\n",
              "        background-color: #434B5C;\n",
              "        box-shadow: 0px 1px 3px 1px rgba(0, 0, 0, 0.15);\n",
              "        filter: drop-shadow(0px 1px 2px rgba(0, 0, 0, 0.3));\n",
              "        fill: #FFFFFF;\n",
              "      }\n",
              "    </style>\n",
              "    <button class=\"colab-df-generate\" onclick=\"generateWithVariable('df')\"\n",
              "            title=\"Generate code using this dataframe.\"\n",
              "            style=\"display:none;\">\n",
              "\n",
              "  <svg xmlns=\"http://www.w3.org/2000/svg\" height=\"24px\"viewBox=\"0 0 24 24\"\n",
              "       width=\"24px\">\n",
              "    <path d=\"M7,19H8.4L18.45,9,17,7.55,7,17.6ZM5,21V16.75L18.45,3.32a2,2,0,0,1,2.83,0l1.4,1.43a1.91,1.91,0,0,1,.58,1.4,1.91,1.91,0,0,1-.58,1.4L9.25,21ZM18.45,9,17,7.55Zm-12,3A5.31,5.31,0,0,0,4.9,8.1,5.31,5.31,0,0,0,1,6.5,5.31,5.31,0,0,0,4.9,4.9,5.31,5.31,0,0,0,6.5,1,5.31,5.31,0,0,0,8.1,4.9,5.31,5.31,0,0,0,12,6.5,5.46,5.46,0,0,0,6.5,12Z\"/>\n",
              "  </svg>\n",
              "    </button>\n",
              "    <script>\n",
              "      (() => {\n",
              "      const buttonEl =\n",
              "        document.querySelector('#id_ca4a55c9-c1c3-480b-b958-6a883a000b64 button.colab-df-generate');\n",
              "      buttonEl.style.display =\n",
              "        google.colab.kernel.accessAllowed ? 'block' : 'none';\n",
              "\n",
              "      buttonEl.onclick = () => {\n",
              "        google.colab.notebook.generateWithVariable('df');\n",
              "      }\n",
              "      })();\n",
              "    </script>\n",
              "  </div>\n",
              "\n",
              "    </div>\n",
              "  </div>\n"
            ],
            "application/vnd.google.colaboratory.intrinsic+json": {
              "type": "dataframe",
              "variable_name": "df",
              "summary": "{\n  \"name\": \"df\",\n  \"rows\": 3970,\n  \"fields\": [\n    {\n      \"column\": \"species\",\n      \"properties\": {\n        \"dtype\": \"number\",\n        \"std\": 2,\n        \"min\": 0,\n        \"max\": 8,\n        \"num_unique_values\": 9,\n        \"samples\": [\n          7,\n          1,\n          5\n        ],\n        \"semantic_type\": \"\",\n        \"description\": \"\"\n      }\n    },\n    {\n      \"column\": \"length\",\n      \"properties\": {\n        \"dtype\": \"number\",\n        \"std\": 0.25691359024154486,\n        \"min\": 0.0003636363636363,\n        \"max\": 1.0,\n        \"num_unique_values\": 1856,\n        \"samples\": [\n          0.1269090909090909,\n          0.6679999999999999,\n          0.3399999999999999\n        ],\n        \"semantic_type\": \"\",\n        \"description\": \"\"\n      }\n    },\n    {\n      \"column\": \"weight\",\n      \"properties\": {\n        \"dtype\": \"number\",\n        \"std\": 0.24307670254930763,\n        \"min\": 0.0,\n        \"max\": 1.0,\n        \"num_unique_values\": 249,\n        \"samples\": [\n          0.400943396226415,\n          0.3018867924528302,\n          0.1108490566037736\n        ],\n        \"semantic_type\": \"\",\n        \"description\": \"\"\n      }\n    },\n    {\n      \"column\": \"w_l_ratio\",\n      \"properties\": {\n        \"dtype\": \"number\",\n        \"std\": 0.21889830353132864,\n        \"min\": 0.0,\n        \"max\": 1.0,\n        \"num_unique_values\": 57,\n        \"samples\": [\n          0.4285714285714285,\n          0.482142857142857,\n          0.1071428571428571\n        ],\n        \"semantic_type\": \"\",\n        \"description\": \"\"\n      }\n    },\n    {\n      \"column\": \"length_binned\",\n      \"properties\": {\n        \"dtype\": \"category\",\n        \"num_unique_values\": 1,\n        \"samples\": [\n          \"0-20\"\n        ],\n        \"semantic_type\": \"\",\n        \"description\": \"\"\n      }\n    },\n    {\n      \"column\": \"Cluster\",\n      \"properties\": {\n        \"dtype\": \"number\",\n        \"std\": 2,\n        \"min\": 1,\n        \"max\": 8,\n        \"num_unique_values\": 8,\n        \"samples\": [\n          6\n        ],\n        \"semantic_type\": \"\",\n        \"description\": \"\"\n      }\n    }\n  ]\n}"
            }
          },
          "metadata": {},
          "execution_count": 25
        }
      ]
    },
    {
      "cell_type": "markdown",
      "source": [
        "# **3. Data Splitting**"
      ],
      "metadata": {
        "id": "KkPem5eWL2UP"
      }
    },
    {
      "cell_type": "markdown",
      "source": [
        "Tahap Data Splitting bertujuan untuk memisahkan dataset menjadi dua bagian: data latih (training set) dan data uji (test set)."
      ],
      "metadata": {
        "id": "YYj1rl_JNI9Y"
      }
    },
    {
      "cell_type": "code",
      "source": [
        "from sklearn.model_selection import train_test_split\n",
        "from sklearn.preprocessing import StandardScaler, LabelEncoder\n",
        "\n",
        "# Jika 'length_binned' kolom kategorikal, kita encode kolom tersebut\n",
        "label_encoder = LabelEncoder()\n",
        "df['length_binned'] = label_encoder.fit_transform(df['length_binned'])\n",
        "\n",
        "# Pisahkan fitur (X) dan target (y)\n",
        "X = df.drop(columns=['Cluster'])  # Pastikan 'Cluster' adalah label yang ingin diprediksi\n",
        "y = df['Cluster']\n",
        "\n",
        "# Bagi data menjadi data latih dan uji (70:20)\n",
        "X_train, X_test, y_train, y_test = train_test_split(X, y, test_size=0.7, random_state=42)\n",
        "\n",
        "# Standarisasi data numerik\n",
        "scaler = StandardScaler()\n",
        "X_train = scaler.fit_transform(X_train)  # Hanya data numerik yang akan distandarisasi\n",
        "X_test = scaler.transform(X_test)\n",
        "\n",
        "# Sekarang data siap untuk klasifikasi"
      ],
      "metadata": {
        "id": "OubAW-7ONKVj"
      },
      "execution_count": 26,
      "outputs": []
    },
    {
      "cell_type": "markdown",
      "source": [
        "Tahapan diatas adalah proses dalam melakukan persiapan data untuk klasifikasi dengan langkah-langkah berikut: pertama, kolom kategorikal length_binned dikonversi ke bentuk numerik menggunakan Label Encoding. Selanjutnya, data dipisahkan menjadi fitur (X) dan target (y), di mana kolom Cluster menjadi label yang akan diprediksi. Kemudian, data dibagi menjadi data latih (30%) dan data uji (70%) menggunakan train_test_split. Terakhir, fitur numerik distandarisasi menggunakan StandardScaler agar memiliki distribusi dengan rata-rata 0 dan varians 1, memastikan performa optimal pada model klasifikasi."
      ],
      "metadata": {
        "id": "dQpCmqDdkWT2"
      }
    },
    {
      "cell_type": "markdown",
      "source": [
        "# **4. Membangun Model Klasifikasi**\n"
      ],
      "metadata": {
        "id": "IVPbB03CMhTT"
      }
    },
    {
      "cell_type": "markdown",
      "source": [
        "## **a. Membangun Model Klasifikasi**"
      ],
      "metadata": {
        "id": "Ned1pL9zMmBK"
      }
    },
    {
      "cell_type": "markdown",
      "source": [
        "Setelah memilih algoritma klasifikasi yang sesuai, langkah selanjutnya adalah melatih model menggunakan data latih.\n",
        "\n",
        "Berikut adalah rekomendasi tahapannya.\n",
        "1. Pilih algoritma klasifikasi yang sesuai, seperti Logistic Regression, Decision Tree, Random Forest, atau K-Nearest Neighbors (KNN).\n",
        "2. Latih model menggunakan data latih."
      ],
      "metadata": {
        "id": "WAWzPOE4Nkti"
      }
    },
    {
      "cell_type": "code",
      "source": [
        "# Inisialisasi model\n",
        "models = {\n",
        "    \"Logistic Regression\": LogisticRegression(),\n",
        "    \"Decision Tree\": DecisionTreeClassifier()\n",
        "}"
      ],
      "metadata": {
        "id": "AJjECcKUKSmL"
      },
      "execution_count": 27,
      "outputs": []
    },
    {
      "cell_type": "markdown",
      "source": [
        "Tahap ini menginisialisasi beberapa algoritma klasifikasi yang akan digunakan untuk membangun model. Model yang dipilih meliputi Logistic Regression dan Decision Tree. Setiap model memiliki pendekatan yang berbeda dalam mengklasifikasikan data, sehingga nantinya dapat dibandingkan untuk menentukan performa terbaik berdasarkan metrik evaluasi."
      ],
      "metadata": {
        "id": "qUyHUGpBlALm"
      }
    },
    {
      "cell_type": "code",
      "source": [
        "# Latih dan evaluasi setiap model\n",
        "for name, model in models.items():\n",
        "    model.fit(X_train, y_train)  # Latih model\n",
        "    y_pred = model.predict(X_test)  # Prediksi data uji\n",
        "    accuracy = accuracy_score(y_test, y_pred)  # Hitung akurasi\n",
        "    print(f\"{name} Accuracy: {accuracy:.2f}\")\n",
        "    print(classification_report(y_test, y_pred))"
      ],
      "metadata": {
        "id": "PBo-YdxMh66E",
        "colab": {
          "base_uri": "https://localhost:8080/"
        },
        "outputId": "3742d7df-9255-4eae-c2c4-e06ef2dbcf6c"
      },
      "execution_count": 28,
      "outputs": [
        {
          "output_type": "stream",
          "name": "stdout",
          "text": [
            "Logistic Regression Accuracy: 0.99\n",
            "              precision    recall  f1-score   support\n",
            "\n",
            "           1       1.00      0.97      0.98       309\n",
            "           2       1.00      1.00      1.00       330\n",
            "           3       1.00      1.00      1.00       305\n",
            "           4       0.99      1.00      0.99       637\n",
            "           5       1.00      0.99      0.99       319\n",
            "           6       0.99      1.00      0.99       279\n",
            "           7       0.99      1.00      0.99       336\n",
            "           8       1.00      1.00      1.00       264\n",
            "\n",
            "    accuracy                           0.99      2779\n",
            "   macro avg       1.00      0.99      0.99      2779\n",
            "weighted avg       0.99      0.99      0.99      2779\n",
            "\n",
            "Decision Tree Accuracy: 1.00\n",
            "              precision    recall  f1-score   support\n",
            "\n",
            "           1       1.00      0.98      0.99       309\n",
            "           2       1.00      1.00      1.00       330\n",
            "           3       1.00      1.00      1.00       305\n",
            "           4       0.99      1.00      1.00       637\n",
            "           5       1.00      0.99      1.00       319\n",
            "           6       0.99      1.00      0.99       279\n",
            "           7       0.99      1.00      0.99       336\n",
            "           8       1.00      1.00      1.00       264\n",
            "\n",
            "    accuracy                           1.00      2779\n",
            "   macro avg       1.00      1.00      1.00      2779\n",
            "weighted avg       1.00      1.00      1.00      2779\n",
            "\n"
          ]
        }
      ]
    },
    {
      "cell_type": "markdown",
      "source": [
        "Kode tersebut melatih dan mengevaluasi beberapa model klasifikasi menggunakan akurasi dan classification report. Model dilatih menggunakan data latih (X_train, y_train), lalu diuji pada data uji (X_test, y_test). Hasil menunjukkan bahwa Logistic Regression memiliki akurasi 99%, sementara Decision Tree mencapai 100%, dengan precision, recall, dan f1-score yang sangat tinggi untuk setiap cluster. Ini mengindikasikan bahwa model mampu mengklasifikasikan cluster dengan sangat baik, namun perlu diperiksa lebih lanjut apakah ada kemungkinan overfitting, terutama pada Decision Tree."
      ],
      "metadata": {
        "id": "seYoHNY3XU1y"
      }
    },
    {
      "cell_type": "markdown",
      "source": [
        "## **b. Evaluasi Model Klasifikasi**"
      ],
      "metadata": {
        "id": "ergzChZFEL-O"
      }
    },
    {
      "cell_type": "markdown",
      "source": [
        "Berikut adalah **rekomendasi** tahapannya.\n",
        "1. Lakukan prediksi menggunakan data uji.\n",
        "2. Hitung metrik evaluasi seperti Accuracy dan F1-Score (Opsional: Precision dan Recall).\n",
        "3. Buat confusion matrix untuk melihat detail prediksi benar dan salah."
      ],
      "metadata": {
        "id": "zOm68u-7NpLT"
      }
    },
    {
      "cell_type": "code",
      "source": [
        "# Evaluasi setiap model\n",
        "for name, model in models.items():\n",
        "    print(f\"\\nEvaluasi Model: {name}\")\n",
        "\n",
        "    # Prediksi dengan data uji\n",
        "    y_pred = model.predict(X_test)\n",
        "\n",
        "    # Hitung metrik evaluasi\n",
        "    accuracy = accuracy_score(y_test, y_pred)\n",
        "    precision = precision_score(y_test, y_pred, average='weighted')\n",
        "    recall = recall_score(y_test, y_pred, average='weighted')\n",
        "    f1 = f1_score(y_test, y_pred, average='weighted')\n",
        "\n",
        "    # Cetak hasil evaluasi\n",
        "    print(f\"Accuracy: {accuracy:.2f}\")\n",
        "    print(f\"Precision: {precision:.2f}\")\n",
        "    print(f\"Recall: {recall:.2f}\")\n",
        "    print(f\"F1-Score: {f1:.2f}\")"
      ],
      "metadata": {
        "id": "tMq4QAssNLip",
        "colab": {
          "base_uri": "https://localhost:8080/"
        },
        "outputId": "50401637-60b0-49d8-b07c-bcd58a991af8"
      },
      "execution_count": 29,
      "outputs": [
        {
          "output_type": "stream",
          "name": "stdout",
          "text": [
            "\n",
            "Evaluasi Model: Logistic Regression\n",
            "Accuracy: 0.99\n",
            "Precision: 0.99\n",
            "Recall: 0.99\n",
            "F1-Score: 0.99\n",
            "\n",
            "Evaluasi Model: Decision Tree\n",
            "Accuracy: 1.00\n",
            "Precision: 1.00\n",
            "Recall: 1.00\n",
            "F1-Score: 1.00\n"
          ]
        }
      ]
    },
    {
      "cell_type": "markdown",
      "source": [
        "Tahapan tersebut mengevaluasi performa setiap model klasifikasi berdasarkan akurasi, presisi, recall, dan F1-score menggunakan data uji (X_test, y_test). Hasil menunjukkan bahwa Logistic Regression memiliki skor 99% di semua metrik, sedangkan Decision Tree mencapai 100%, mengindikasikan pemisahan cluster yang sangat baik. Namun, skor sempurna pada Decision Tree dapat mengindikasikan overfitting, sehingga perlu diuji lebih lanjut pada data baru atau dengan metode validasi tambahan."
      ],
      "metadata": {
        "id": "A2Ol_oXSldsK"
      }
    },
    {
      "cell_type": "code",
      "source": [
        "# Menampilkan confusion matrix untuk setiap model\n",
        "for name, model in models.items():\n",
        "    y_pred = model.predict(X_test)\n",
        "    cm = confusion_matrix(y_test, y_pred)\n",
        "\n",
        "    # Visualisasi confusion matrix\n",
        "    plt.figure(figsize=(5,4))\n",
        "    sns.heatmap(cm, annot=True, fmt='d', cmap='Blues')\n",
        "    plt.xlabel('Predicted')\n",
        "    plt.ylabel('Actual')\n",
        "    plt.title(f'Confusion Matrix - {name}')\n",
        "    plt.show()"
      ],
      "metadata": {
        "id": "cAOOW_g6i4df",
        "colab": {
          "base_uri": "https://localhost:8080/",
          "height": 803
        },
        "outputId": "4cbebe39-61e6-4358-abcb-09e4933b8f95"
      },
      "execution_count": 30,
      "outputs": [
        {
          "output_type": "display_data",
          "data": {
            "text/plain": [
              "<Figure size 500x400 with 2 Axes>"
            ],
            "image/png": "[encoded data removed]"
          },
          "metadata": {}
        },
        {
          "output_type": "display_data",
          "data": {
            "text/plain": [
              "<Figure size 500x400 with 2 Axes>"
            ],
            "image/png": "[encoded data removed]"
          },
          "metadata": {}
        }
      ]
    },
    {
      "cell_type": "markdown",
      "source": [
        "Pada tahap ini, dilakukan evaluasi model klasifikasi menggunakan Confusion Matrix untuk melihat performa prediksi terhadap data uji. Setiap model, yaitu Logistic Regression dan Decision Tree, menghasilkan matriks yang menunjukkan jumlah prediksi benar dan salah untuk setiap kelas. Logistic Regression menunjukkan beberapa kesalahan prediksi, misalnya kelas 1 memiliki 7 sampel yang diprediksi sebagai kelas 4 dan 3 sampel yang salah diklasifikasikan ke kelas 6. Sementara itu, Decision Tree memiliki akurasi yang lebih tinggi dengan kesalahan yang lebih sedikit, seperti hanya satu kesalahan pada kelas 4 yang diklasifikasikan sebagai kelas 1. Dapat disimpulkan bahwa Decision Tree lebih unggul dibandingkan Logistic Regression dalam membedakan setiap cluster, dengan jumlah kesalahan klasifikasi yang lebih sedikit."
      ],
      "metadata": {
        "id": "XDkRkq7hl-go"
      }
    },
    {
      "cell_type": "markdown",
      "source": [
        "## **c. Analisis Hasil Evaluasi Model Klasifikasi**"
      ],
      "metadata": {
        "id": "ZRsOdm4uEgAW"
      }
    },
    {
      "cell_type": "markdown",
      "source": [
        "Berdasarkan hasil evaluasi, model **Logistic Regression** dan **Decision Tree** memiliki performa yang sangat baik dalam mengklasifikasikan data. Decision Tree memiliki akurasi sempurna (100%), sedangkan Logistic Regression sedikit lebih rendah (99%) dengan beberapa kesalahan klasifikasi.\n",
        "- **Logistic Regression mengalami beberapa kesalahan klasifikasi**, terutama di **Cluster 1** yang memiliki beberapa sampel diklasifikasikan sebagai Cluster 4 dan 6. Ini menunjukkan bahwa fitur dalam cluster tersebut memiliki kemiripan sehingga model kesulitan membedakannya.  \n",
        "- **Tidak ada indikasi overfitting pada Decision Tree**, karena model memiliki akurasi tinggi di data uji. Namun, perlu dipastikan bahwa hasil serupa juga muncul pada data baru.  \n",
        "- **Tidak ditemukan kelas dengan precision atau recall yang sangat rendah**, yang menunjukkan bahwa model cukup stabil dalam mengklasifikasikan seluruh cluster.  \n",
        "\n",
        "#### **Rekomendasi Tindakan Lanjutan**  \n",
        "- **Melakukan Hyperparameter Tuning** terutama pada Logistic Regression, misalnya dengan menyesuaikan **regularisasi (C)** atau mencoba algoritma optimasi lain.  \n",
        "- **Menambahkan teknik feature selection atau feature engineering** untuk memastikan fitur yang digunakan dapat lebih membedakan setiap cluster.  \n",
        "- **Menguji model dengan data baru atau validasi silang** untuk memastikan bahwa Decision Tree tidak mengalami *overfitting*.  \n",
        "- **Mencoba model lain seperti Random Forest atau SVM**, yang mungkin lebih baik dalam menangkap pola kompleks dalam data.  "
      ],
      "metadata": {
        "id": "Hm3BhSi6N4_l"
      }
    }
  ]
}